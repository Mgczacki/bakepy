{
 "cells": [
  {
   "cell_type": "markdown",
   "id": "bffa6aa4",
   "metadata": {},
   "source": [
    "# Recipes"
   ]
  },
  {
   "cell_type": "code",
   "execution_count": 1,
   "id": "7c288b53",
   "metadata": {},
   "outputs": [],
   "source": [
    "from bakepy import Report, get_recipes, get_recipe_info\n",
    "from bakepy.recipes import register_recipe\n",
    "\n",
    "r = Report()"
   ]
  },
  {
   "cell_type": "markdown",
   "id": "ac1d093a",
   "metadata": {},
   "source": [
    "Recipes in BakePy are easy-to-use, premade formats that you can use in reports.\n",
    "\n",
    "In order to see all available recipes, you can use `get_recipes`:"
   ]
  },
  {
   "cell_type": "code",
   "execution_count": 2,
   "id": "70621acf",
   "metadata": {},
   "outputs": [
    {
     "data": {
      "text/plain": [
       "dict_keys(['separator', 'img', 'markdown', 'title', 'spacer'])"
      ]
     },
     "execution_count": 2,
     "metadata": {},
     "output_type": "execute_result"
    }
   ],
   "source": [
    "get_recipes()"
   ]
  },
  {
   "cell_type": "markdown",
   "id": "fc9d2341",
   "metadata": {},
   "source": [
    "This reveals a listing of all available recipes. In order to check out usage instructions, `get_recipe_info` can be used:"
   ]
  },
  {
   "cell_type": "code",
   "execution_count": 3,
   "id": "150f863a",
   "metadata": {},
   "outputs": [
    {
     "name": "stdout",
     "output_type": "stream",
     "text": [
      "Help on function _get_title in module bakepy.recipes:\n",
      "\n",
      "_get_title(text, level=1, center=True)\n",
      "    Generates a title.\n",
      "    \n",
      "    Parameters\n",
      "    ----------\n",
      "    text: str\n",
      "        The title contents.\n",
      "    level: int, default = 1\n",
      "        The Boostrap display-level.\n",
      "    center: bool, default = True\n",
      "        If True, centers the title horizontally.\n",
      "\n"
     ]
    }
   ],
   "source": [
    "#For example, let's check out the \"title\" recipe.\n",
    "get_recipe_info(\"title\")"
   ]
  },
  {
   "cell_type": "markdown",
   "id": "cf33db96",
   "metadata": {},
   "source": [
    "Using recipes in a report is simple. By calling a report's `recipe` method, we can access the underlying function."
   ]
  },
  {
   "cell_type": "code",
   "execution_count": 4,
   "id": "ea7e6671",
   "metadata": {},
   "outputs": [
    {
     "name": "stdout",
     "output_type": "stream",
     "text": [
      "Help on method recipe in module bakepy.report:\n",
      "\n",
      "recipe(type, *args, container_name=None, row_idx=None, col_idx=None, new_row=True, new_col=True, size=None, copy=False, overwrite=False, **kwargs) method of bakepy.report.Report instance\n",
      "    Add specially formatted content to the report.\n",
      "    \n",
      "    Parameters\n",
      "    ----------\n",
      "    type : str\n",
      "        The type of content to insert.\n",
      "    container_name : str, default = None\n",
      "        The name of the container to insert at. If None, uses the current container.\n",
      "    row_idx : int, default = None\n",
      "        The index of the row to insert at. If None, uses the current row.\n",
      "    col_idx : int, default = None\n",
      "        The index of the column to insert at. If None, inserts at the end of the row.\n",
      "    new_row : bool, default = True\n",
      "        If True, the elements will be added in a new row.\n",
      "    new_col : bool, default = True\n",
      "        If True, the elements will be added in a new column.\n",
      "    size : int, default = None\n",
      "        The width of the column to insert.\n",
      "    copy : bool, default = False\n",
      "        If True, the elements will be copied before inserting.\n",
      "    overwrite : bool, default = False\n",
      "        Set to true if overwriting the item in the specified position.\n",
      "\n"
     ]
    }
   ],
   "source": [
    "help(r.recipe)"
   ]
  },
  {
   "cell_type": "code",
   "execution_count": 5,
   "id": "e8fd64ad",
   "metadata": {},
   "outputs": [],
   "source": [
    "#To use a recipe, the first argument will be the name of the recipe to use.\n",
    "#Other arguments will either be captured by the `recipe` method itself,\n",
    "# or by the recipe function.\n",
    "\n",
    "r.recipe(\"title\",\n",
    "         \"This is a title\", #This argument is captured by _get_title, from the recipe \"title\"\n",
    "         level=5, #This argument is captured by _get_title, from the recipe \"title\"\n",
    "         size=1) #This argument is captured by r.recipe, using the same options as r.add"
   ]
  },
  {
   "cell_type": "code",
   "execution_count": 6,
   "id": "c83a8905",
   "metadata": {},
   "outputs": [],
   "source": [
    "r.save_html(\"example_recipes_1.html\")"
   ]
  },
  {
   "cell_type": "markdown",
   "id": "6ca31428",
   "metadata": {},
   "source": [
    "Recipes are an easy way of adding complex contents to a report without writing lots of code.\n",
    "\n",
    "If you are constantly adding very complicated formatting, recipes are a great way to reduce your boilerplate."
   ]
  },
  {
   "cell_type": "markdown",
   "id": "8986fc1f",
   "metadata": {},
   "source": [
    "## Custom recipes\n",
    "\n",
    "BakePy is designed to be easily extended. In order to register your own custom recipes, you merely need to use the decorator `@register_recipe` when defining your recipe function.\n",
    "\n",
    "Remember to document your recipe properly so that it can be used without needing to look at its source code."
   ]
  },
  {
   "cell_type": "code",
   "execution_count": 7,
   "id": "420f641f",
   "metadata": {},
   "outputs": [],
   "source": [
    "@register_recipe(\"color_title\") #We will name our recipe color_title\n",
    "def _get_color_title(text, level = 1, center = True, color = \"red\"):\n",
    "    \"\"\"\n",
    "    Generates a title with color.\n",
    "\n",
    "    Parameters\n",
    "    ----------\n",
    "    text: str\n",
    "        The title contents.\n",
    "    level: int, default = 1\n",
    "        The Boostrap display-level.\n",
    "    center: bool, default = True\n",
    "        If True, centers the title horizontally.\n",
    "    color: str, default = \"red\"\n",
    "        The color for the title.\n",
    "    \"\"\"\n",
    "    c_str = f\"\"\"class = \"display-{level}\"\"\"\n",
    "    if center:\n",
    "        c_str = c_str + \" text-center\"\n",
    "    c_str = c_str + '\"'\n",
    "    #All recipes return HTML code\n",
    "    return f\"\"\"<h1 {c_str} style = \"color:{color}\"> {text} </h1>\"\"\""
   ]
  },
  {
   "cell_type": "markdown",
   "id": "a9cab4f3",
   "metadata": {},
   "source": [
    "We can check that the recipe is now loaded into BakePy."
   ]
  },
  {
   "cell_type": "code",
   "execution_count": 8,
   "id": "4d11adb7",
   "metadata": {},
   "outputs": [
    {
     "data": {
      "text/plain": [
       "dict_keys(['separator', 'img', 'markdown', 'title', 'spacer', 'color_title'])"
      ]
     },
     "execution_count": 8,
     "metadata": {},
     "output_type": "execute_result"
    }
   ],
   "source": [
    "get_recipes()"
   ]
  },
  {
   "cell_type": "code",
   "execution_count": 9,
   "id": "0c6e5b9c",
   "metadata": {},
   "outputs": [
    {
     "name": "stdout",
     "output_type": "stream",
     "text": [
      "Help on function _get_color_title in module __main__:\n",
      "\n",
      "_get_color_title(text, level=1, center=True, color='red')\n",
      "    Generates a title with color.\n",
      "    \n",
      "    Parameters\n",
      "    ----------\n",
      "    text: str\n",
      "        The title contents.\n",
      "    level: int, default = 1\n",
      "        The Boostrap display-level.\n",
      "    center: bool, default = True\n",
      "        If True, centers the title horizontally.\n",
      "    color: str, default = \"red\"\n",
      "        The color for the title.\n",
      "\n"
     ]
    }
   ],
   "source": [
    "get_recipe_info(\"color_title\")"
   ]
  },
  {
   "cell_type": "code",
   "execution_count": 10,
   "id": "b57bc904",
   "metadata": {},
   "outputs": [],
   "source": [
    "#Let's overwrite our past title with a new, better one.\n",
    "r.recipe(\"color_title\",\n",
    "         \"This is a title, with color\",\n",
    "         color=\"blue\",\n",
    "         size=10,\n",
    "         overwrite=True)"
   ]
  },
  {
   "cell_type": "code",
   "execution_count": 11,
   "id": "7d4e0ea2",
   "metadata": {},
   "outputs": [],
   "source": [
    "r.save_html(\"example_recipes_2.html\")"
   ]
  }
 ],
 "metadata": {
  "kernelspec": {
   "display_name": "Python 3 (ipykernel)",
   "language": "python",
   "name": "python3"
  },
  "language_info": {
   "codemirror_mode": {
    "name": "ipython",
    "version": 3
   },
   "file_extension": ".py",
   "mimetype": "text/x-python",
   "name": "python",
   "nbconvert_exporter": "python",
   "pygments_lexer": "ipython3",
   "version": "3.8.8"
  }
 },
 "nbformat": 4,
 "nbformat_minor": 5
}
