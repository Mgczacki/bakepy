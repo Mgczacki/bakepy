{
 "cells": [
  {
   "cell_type": "code",
   "execution_count": 20,
   "id": "116c63bd",
   "metadata": {},
   "outputs": [],
   "source": [
    "import pandas as pd \n",
    "from datetime import datetime as dt\n",
    "from bakepy import Report\n",
    "\n",
    "r = Report()\n",
    "\n",
    "r.add_special(\"markdown\",\n",
    "f\"\"\"\n",
    "# An example BakePy report\n",
    "### {dt.now().strftime(\"%Y-%m-%d\")}\n",
    "\"\"\")\n",
    "\n",
    "r.add_special(\"separator\", new_row = True)\n",
    "\n",
    "\n",
    "r.add_special(\"markdown\",\n",
    "\"\"\"\n",
    "**Lorem Ipsum** is simply dummy text of the printing and typesetting industry. Lorem Ipsum has been the industry's standard dummy text ever since the 1500s, when an unknown printer took a galley of type and scrambled it to make a type specimen book. It has survived not only five centuries, but also the leap into electronic typesetting, remaining essentially unchanged. It was popularised in the 1960s with the release of Letraset sheets containing Lorem Ipsum passages, and more recently with desktop publishing software like Aldus PageMaker including versions of Lorem Ipsum.\n",
    "\"\"\", new_row=True\n",
    ")\n",
    "\n",
    "\n",
    "r.save_html(\"example_report.html\")"
   ]
  },
  {
   "cell_type": "code",
   "execution_count": 16,
   "id": "19c68be0",
   "metadata": {},
   "outputs": [],
   "source": [
    "r.current_row"
   ]
  },
  {
   "cell_type": "code",
   "execution_count": 3,
   "id": "8ff337c7",
   "metadata": {},
   "outputs": [],
   "source": [
    "r.add_special?"
   ]
  },
  {
   "cell_type": "code",
   "execution_count": 5,
   "id": "c0d30543",
   "metadata": {},
   "outputs": [
    {
     "name": "stdout",
     "output_type": "stream",
     "text": [
      "Collecting mdtex2html\n",
      "  Downloading mdtex2html-1.2.0-py3-none-any.whl (13 kB)\n",
      "Collecting latex2mathml\n",
      "  Downloading latex2mathml-3.74.1-py3-none-any.whl (72 kB)\n",
      "\u001b[K     |████████████████████████████████| 72 kB 1.0 MB/s eta 0:00:01\n",
      "\u001b[?25hRequirement already satisfied: markdown in /home/mario/anaconda3/lib/python3.8/site-packages (from mdtex2html) (3.3.4)\n",
      "Installing collected packages: latex2mathml, mdtex2html\n",
      "Successfully installed latex2mathml-3.74.1 mdtex2html-1.2.0\n"
     ]
    }
   ],
   "source": [
    "!pip install mdtex2html"
   ]
  },
  {
   "cell_type": "code",
   "execution_count": null,
   "id": "3656f427",
   "metadata": {},
   "outputs": [],
   "source": []
  }
 ],
 "metadata": {
  "kernelspec": {
   "display_name": "Python 3 (ipykernel)",
   "language": "python",
   "name": "python3"
  },
  "language_info": {
   "codemirror_mode": {
    "name": "ipython",
    "version": 3
   },
   "file_extension": ".py",
   "mimetype": "text/x-python",
   "name": "python",
   "nbconvert_exporter": "python",
   "pygments_lexer": "ipython3",
   "version": "3.8.8"
  }
 },
 "nbformat": 4,
 "nbformat_minor": 5
}
