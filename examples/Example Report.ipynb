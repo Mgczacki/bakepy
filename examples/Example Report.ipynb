{
 "cells": [
  {
   "cell_type": "code",
   "execution_count": 5,
   "id": "d253ccc6",
   "metadata": {},
   "outputs": [
    {
     "data": {
      "image/png": "[encoded data removed]",
      "text/plain": [
       "<Figure size 432x288 with 1 Axes>"
      ]
     },
     "metadata": {
      "needs_background": "light"
     },
     "output_type": "display_data"
    }
   ],
   "source": [
    "import pandas as pd \n",
    "from datetime import datetime as dt\n",
    "from bakepy import Report\n",
    "\n",
    "r = Report()\n",
    "\n",
    "r.recipe(\"title\", \"Example BakePy Report\")\n",
    "\n",
    "r.recipe(\"markdown\",\n",
    "f\"\"\"\n",
    "### {dt.now().strftime(\"%Y-%m-%d\")}\n",
    "\"\"\")\n",
    "\n",
    "r.set_col_cls(\"text-center\")\n",
    "\n",
    "r.recipe(\"separator\", new_row = True)\n",
    "\n",
    "a = 4\n",
    "color = \"blue\"\n",
    "l = [\"red\", 3, False]\n",
    "r.recipe(\"markdown\",\n",
    "f\"\"\"\n",
    "We can add markdown and use the power of Python to mix:\n",
    "\n",
    "- Variables, like a={a}\n",
    "- Conditional formatting, like adding the <span style=\"color:{color}\">color {color}</span>\n",
    "- And even directly transform Python objects beyond things like the list: {l}\n",
    "\"\"\", new_row=True\n",
    ")\n",
    "\n",
    "r.add(\"<h2> See some examples below! </h2>\")\n",
    "\n",
    "r.add(\n",
    "\"\"\"\n",
    "For example, Pandas Dataframes and Matplotlib Figures\n",
    "\"\"\", new_col = False)\n",
    "\n",
    "#Adding a DataFrame in a new line.\n",
    "\n",
    "data = {\n",
    "  \"cost\": [10, 23, 40],\n",
    "  \"gain\": [20, 40, 45]\n",
    "}\n",
    "df = pd.DataFrame(data)\n",
    "\n",
    "r.add(df, caption = \"This is a table\", new_row = True)\n",
    "\n",
    "#Adding a plot on the same line.\n",
    "\n",
    "r.add(df.plot(x=\"cost\", y=\"gain\").figure, size=6, caption = \"This is a figure\", new_row = True)\n",
    "\n",
    "r.set_col_cls(\"d-flex justify-content-center\")\n",
    "\n",
    "#Saving the report\n",
    "\n",
    "r.save_html(\"example_report.html\")"
   ]
  }
 ],
 "metadata": {
  "kernelspec": {
   "display_name": "Python 3 (ipykernel)",
   "language": "python",
   "name": "python3"
  },
  "language_info": {
   "codemirror_mode": {
    "name": "ipython",
    "version": 3
   },
   "file_extension": ".py",
   "mimetype": "text/x-python",
   "name": "python",
   "nbconvert_exporter": "python",
   "pygments_lexer": "ipython3",
   "version": "3.8.8"
  }
 },
 "nbformat": 4,
 "nbformat_minor": 5
}
