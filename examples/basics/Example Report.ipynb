{
 "cells": [
  {
   "cell_type": "code",
   "execution_count": 1,
   "id": "d253ccc6",
   "metadata": {},
   "outputs": [
    {
     "ename": "FeatureNotFound",
     "evalue": "Couldn't find a tree builder with the features you requested: lxml-xml. Do you need to install a parser library?",
     "output_type": "error",
     "traceback": [
      "\u001b[0;31m---------------------------------------------------------------------------\u001b[0m",
      "\u001b[0;31mFeatureNotFound\u001b[0m                           Traceback (most recent call last)",
      "Cell \u001b[0;32mIn [1], line 63\u001b[0m\n\u001b[1;32m     55\u001b[0m \u001b[38;5;66;03m#Saving the report\u001b[39;00m\n\u001b[1;32m     56\u001b[0m \n\u001b[1;32m     57\u001b[0m \u001b[38;5;66;03m#An image\u001b[39;00m\n\u001b[1;32m     58\u001b[0m r\u001b[38;5;241m.\u001b[39mrecipe(\u001b[38;5;124m\"\u001b[39m\u001b[38;5;124mimg\u001b[39m\u001b[38;5;124m\"\u001b[39m,\n\u001b[1;32m     59\u001b[0m \u001b[38;5;124m\"\u001b[39m\u001b[38;5;124mhttps://upload.wikimedia.org/wikipedia/en/thumb/8/80/Wikipedia-logo-v2.svg/800px-Wikipedia-logo-v2.svg.png\u001b[39m\u001b[38;5;124m\"\u001b[39m,\n\u001b[1;32m     60\u001b[0m size \u001b[38;5;241m=\u001b[39m \u001b[38;5;241m2\u001b[39m,\n\u001b[1;32m     61\u001b[0m caption \u001b[38;5;241m=\u001b[39m \u001b[38;5;124m\"\u001b[39m\u001b[38;5;124mAdding an image from the Internet.\u001b[39m\u001b[38;5;124m\"\u001b[39m)\n\u001b[0;32m---> 63\u001b[0m \u001b[43mr\u001b[49m\u001b[38;5;241;43m.\u001b[39;49m\u001b[43msave_html\u001b[49m\u001b[43m(\u001b[49m\u001b[38;5;124;43m\"\u001b[39;49m\u001b[38;5;124;43mexample_report.html\u001b[39;49m\u001b[38;5;124;43m\"\u001b[39;49m\u001b[43m)\u001b[49m\n",
      "File \u001b[0;32m~/Documents/Repositories/bakepy/bakepy/report.py:827\u001b[0m, in \u001b[0;36mReport.save_html\u001b[0;34m(self, filename, embed_images, embed_links)\u001b[0m\n\u001b[1;32m    823\u001b[0m     output_dir \u001b[38;5;241m=\u001b[39m Path(filename)\u001b[38;5;241m.\u001b[39mparent\u001b[38;5;241m.\u001b[39mabsolute()\n\u001b[1;32m    825\u001b[0m \u001b[38;5;28;01mwith\u001b[39;00m Working_Directory(output_dir) \u001b[38;5;28;01mas\u001b[39;00m wd:\n\u001b[0;32m--> 827\u001b[0m     html \u001b[38;5;241m=\u001b[39m \u001b[38;5;28;43mself\u001b[39;49m\u001b[38;5;241;43m.\u001b[39;49m\u001b[43mbody\u001b[49m\u001b[38;5;241;43m.\u001b[39;49m\u001b[43mto_html\u001b[49m\u001b[43m(\u001b[49m\u001b[43m)\u001b[49m\n\u001b[1;32m    828\u001b[0m     soup \u001b[38;5;241m=\u001b[39m BeautifulSoup(html, \u001b[38;5;124m\"\u001b[39m\u001b[38;5;124mhtml.parser\u001b[39m\u001b[38;5;124m\"\u001b[39m)\n\u001b[1;32m    830\u001b[0m     \u001b[38;5;66;03m#Embed images as base64\u001b[39;00m\n",
      "File \u001b[0;32m~/Documents/Repositories/bakepy/bakepy/html.py:42\u001b[0m, in \u001b[0;36mHTMLElement.to_html\u001b[0;34m(self)\u001b[0m\n\u001b[1;32m     41\u001b[0m \u001b[38;5;28;01mdef\u001b[39;00m \u001b[38;5;21mto_html\u001b[39m(\u001b[38;5;28mself\u001b[39m): \n\u001b[0;32m---> 42\u001b[0m     \u001b[38;5;28;01mreturn\u001b[39;00m \u001b[38;5;28mself\u001b[39m\u001b[38;5;241m.\u001b[39mget_head() \u001b[38;5;241m+\u001b[39m\u001b[38;5;124m'\u001b[39m\u001b[38;5;130;01m\\n\u001b[39;00m\u001b[38;5;124m'\u001b[39m\u001b[38;5;241m.\u001b[39mjoin([\u001b[38;5;28mself\u001b[39m\u001b[38;5;241m.\u001b[39m_get_html_element(x, \u001b[38;5;241m*\u001b[39m\u001b[38;5;241m*\u001b[39mo) \u001b[38;5;28;01mfor\u001b[39;00m (x, o) \u001b[38;5;129;01min\u001b[39;00m \u001b[38;5;28mzip\u001b[39m(\u001b[38;5;28mself\u001b[39m\u001b[38;5;241m.\u001b[39melements, \u001b[38;5;28mself\u001b[39m\u001b[38;5;241m.\u001b[39mparse_options)])\u001b[38;5;241m+\u001b[39m \u001b[38;5;28mself\u001b[39m\u001b[38;5;241m.\u001b[39mget_tail()\n",
      "File \u001b[0;32m~/Documents/Repositories/bakepy/bakepy/html.py:42\u001b[0m, in \u001b[0;36m<listcomp>\u001b[0;34m(.0)\u001b[0m\n\u001b[1;32m     41\u001b[0m \u001b[38;5;28;01mdef\u001b[39;00m \u001b[38;5;21mto_html\u001b[39m(\u001b[38;5;28mself\u001b[39m): \n\u001b[0;32m---> 42\u001b[0m     \u001b[38;5;28;01mreturn\u001b[39;00m \u001b[38;5;28mself\u001b[39m\u001b[38;5;241m.\u001b[39mget_head() \u001b[38;5;241m+\u001b[39m\u001b[38;5;124m'\u001b[39m\u001b[38;5;130;01m\\n\u001b[39;00m\u001b[38;5;124m'\u001b[39m\u001b[38;5;241m.\u001b[39mjoin([\u001b[38;5;28;43mself\u001b[39;49m\u001b[38;5;241;43m.\u001b[39;49m\u001b[43m_get_html_element\u001b[49m\u001b[43m(\u001b[49m\u001b[43mx\u001b[49m\u001b[43m,\u001b[49m\u001b[43m \u001b[49m\u001b[38;5;241;43m*\u001b[39;49m\u001b[38;5;241;43m*\u001b[39;49m\u001b[43mo\u001b[49m\u001b[43m)\u001b[49m \u001b[38;5;28;01mfor\u001b[39;00m (x, o) \u001b[38;5;129;01min\u001b[39;00m \u001b[38;5;28mzip\u001b[39m(\u001b[38;5;28mself\u001b[39m\u001b[38;5;241m.\u001b[39melements, \u001b[38;5;28mself\u001b[39m\u001b[38;5;241m.\u001b[39mparse_options)])\u001b[38;5;241m+\u001b[39m \u001b[38;5;28mself\u001b[39m\u001b[38;5;241m.\u001b[39mget_tail()\n",
      "File \u001b[0;32m~/Documents/Repositories/bakepy/bakepy/html.py:75\u001b[0m, in \u001b[0;36mHTMLElement._get_html_element\u001b[0;34m(self, element, **options)\u001b[0m\n\u001b[1;32m     71\u001b[0m \u001b[38;5;124;03m\"\"\"\u001b[39;00m\n\u001b[1;32m     72\u001b[0m \u001b[38;5;124;03mMapping for different types of objects from the parsing submodule.\u001b[39;00m\n\u001b[1;32m     73\u001b[0m \u001b[38;5;124;03m\"\"\"\u001b[39;00m\n\u001b[1;32m     74\u001b[0m \u001b[38;5;28;01mfrom\u001b[39;00m \u001b[38;5;21;01m.\u001b[39;00m\u001b[38;5;21;01mrendering\u001b[39;00m \u001b[38;5;28;01mimport\u001b[39;00m get_html\n\u001b[0;32m---> 75\u001b[0m \u001b[38;5;28;01mreturn\u001b[39;00m \u001b[43mget_html\u001b[49m\u001b[43m(\u001b[49m\u001b[43melement\u001b[49m\u001b[43m,\u001b[49m\u001b[43m \u001b[49m\u001b[38;5;241;43m*\u001b[39;49m\u001b[38;5;241;43m*\u001b[39;49m\u001b[43moptions\u001b[49m\u001b[43m)\u001b[49m\n",
      "File \u001b[0;32m~/Documents/Repositories/bakepy/bakepy/rendering.py:76\u001b[0m, in \u001b[0;36mget_html\u001b[0;34m(element, **options)\u001b[0m\n\u001b[1;32m     61\u001b[0m \u001b[38;5;28;01mdef\u001b[39;00m \u001b[38;5;21mget_html\u001b[39m(element, \u001b[38;5;241m*\u001b[39m\u001b[38;5;241m*\u001b[39moptions):\n\u001b[1;32m     62\u001b[0m     \u001b[38;5;124;03m\"\"\"\u001b[39;00m\n\u001b[1;32m     63\u001b[0m \u001b[38;5;124;03m    Renders an object to an HTML string.\u001b[39;00m\n\u001b[1;32m     64\u001b[0m \u001b[38;5;124;03m    \u001b[39;00m\n\u001b[0;32m   (...)\u001b[0m\n\u001b[1;32m     74\u001b[0m \u001b[38;5;124;03m        An HTML string.\u001b[39;00m\n\u001b[1;32m     75\u001b[0m \u001b[38;5;124;03m    \"\"\"\u001b[39;00m\n\u001b[0;32m---> 76\u001b[0m     \u001b[38;5;28;01mreturn\u001b[39;00m \u001b[43mget_render_function\u001b[49m\u001b[43m(\u001b[49m\u001b[43melement\u001b[49m\u001b[43m)\u001b[49m\u001b[43m(\u001b[49m\u001b[43melement\u001b[49m\u001b[43m,\u001b[49m\u001b[43m \u001b[49m\u001b[38;5;241;43m*\u001b[39;49m\u001b[38;5;241;43m*\u001b[39;49m\u001b[43moptions\u001b[49m\u001b[43m)\u001b[49m\n",
      "File \u001b[0;32m~/Documents/Repositories/bakepy/bakepy/rendering.py:131\u001b[0m, in \u001b[0;36m_get_htmlelement_html\u001b[0;34m(element, **_options)\u001b[0m\n\u001b[1;32m    115\u001b[0m \u001b[38;5;129m@register_html_renderer\u001b[39m(\u001b[38;5;28mcls\u001b[39m\u001b[38;5;241m=\u001b[39mHTMLElement)\n\u001b[1;32m    116\u001b[0m \u001b[38;5;28;01mdef\u001b[39;00m \u001b[38;5;21m_get_htmlelement_html\u001b[39m(element, \u001b[38;5;241m*\u001b[39m\u001b[38;5;241m*\u001b[39m_options):\n\u001b[1;32m    117\u001b[0m     \u001b[38;5;124;03m\"\"\"\u001b[39;00m\n\u001b[1;32m    118\u001b[0m \u001b[38;5;124;03m    Rendering function for HTMLElement objects. Calls the object's to_html() function.\u001b[39;00m\n\u001b[1;32m    119\u001b[0m \n\u001b[0;32m   (...)\u001b[0m\n\u001b[1;32m    129\u001b[0m \u001b[38;5;124;03m        An HTML string.\u001b[39;00m\n\u001b[1;32m    130\u001b[0m \u001b[38;5;124;03m    \"\"\"\u001b[39;00m\n\u001b[0;32m--> 131\u001b[0m     \u001b[38;5;28;01mreturn\u001b[39;00m \u001b[43melement\u001b[49m\u001b[38;5;241;43m.\u001b[39;49m\u001b[43mto_html\u001b[49m\u001b[43m(\u001b[49m\u001b[43m)\u001b[49m\n",
      "File \u001b[0;32m~/Documents/Repositories/bakepy/bakepy/html.py:42\u001b[0m, in \u001b[0;36mHTMLElement.to_html\u001b[0;34m(self)\u001b[0m\n\u001b[1;32m     41\u001b[0m \u001b[38;5;28;01mdef\u001b[39;00m \u001b[38;5;21mto_html\u001b[39m(\u001b[38;5;28mself\u001b[39m): \n\u001b[0;32m---> 42\u001b[0m     \u001b[38;5;28;01mreturn\u001b[39;00m \u001b[38;5;28mself\u001b[39m\u001b[38;5;241m.\u001b[39mget_head() \u001b[38;5;241m+\u001b[39m\u001b[38;5;124m'\u001b[39m\u001b[38;5;130;01m\\n\u001b[39;00m\u001b[38;5;124m'\u001b[39m\u001b[38;5;241m.\u001b[39mjoin([\u001b[38;5;28mself\u001b[39m\u001b[38;5;241m.\u001b[39m_get_html_element(x, \u001b[38;5;241m*\u001b[39m\u001b[38;5;241m*\u001b[39mo) \u001b[38;5;28;01mfor\u001b[39;00m (x, o) \u001b[38;5;129;01min\u001b[39;00m \u001b[38;5;28mzip\u001b[39m(\u001b[38;5;28mself\u001b[39m\u001b[38;5;241m.\u001b[39melements, \u001b[38;5;28mself\u001b[39m\u001b[38;5;241m.\u001b[39mparse_options)])\u001b[38;5;241m+\u001b[39m \u001b[38;5;28mself\u001b[39m\u001b[38;5;241m.\u001b[39mget_tail()\n",
      "File \u001b[0;32m~/Documents/Repositories/bakepy/bakepy/html.py:42\u001b[0m, in \u001b[0;36m<listcomp>\u001b[0;34m(.0)\u001b[0m\n\u001b[1;32m     41\u001b[0m \u001b[38;5;28;01mdef\u001b[39;00m \u001b[38;5;21mto_html\u001b[39m(\u001b[38;5;28mself\u001b[39m): \n\u001b[0;32m---> 42\u001b[0m     \u001b[38;5;28;01mreturn\u001b[39;00m \u001b[38;5;28mself\u001b[39m\u001b[38;5;241m.\u001b[39mget_head() \u001b[38;5;241m+\u001b[39m\u001b[38;5;124m'\u001b[39m\u001b[38;5;130;01m\\n\u001b[39;00m\u001b[38;5;124m'\u001b[39m\u001b[38;5;241m.\u001b[39mjoin([\u001b[38;5;28;43mself\u001b[39;49m\u001b[38;5;241;43m.\u001b[39;49m\u001b[43m_get_html_element\u001b[49m\u001b[43m(\u001b[49m\u001b[43mx\u001b[49m\u001b[43m,\u001b[49m\u001b[43m \u001b[49m\u001b[38;5;241;43m*\u001b[39;49m\u001b[38;5;241;43m*\u001b[39;49m\u001b[43mo\u001b[49m\u001b[43m)\u001b[49m \u001b[38;5;28;01mfor\u001b[39;00m (x, o) \u001b[38;5;129;01min\u001b[39;00m \u001b[38;5;28mzip\u001b[39m(\u001b[38;5;28mself\u001b[39m\u001b[38;5;241m.\u001b[39melements, \u001b[38;5;28mself\u001b[39m\u001b[38;5;241m.\u001b[39mparse_options)])\u001b[38;5;241m+\u001b[39m \u001b[38;5;28mself\u001b[39m\u001b[38;5;241m.\u001b[39mget_tail()\n",
      "File \u001b[0;32m~/Documents/Repositories/bakepy/bakepy/html.py:75\u001b[0m, in \u001b[0;36mHTMLElement._get_html_element\u001b[0;34m(self, element, **options)\u001b[0m\n\u001b[1;32m     71\u001b[0m \u001b[38;5;124;03m\"\"\"\u001b[39;00m\n\u001b[1;32m     72\u001b[0m \u001b[38;5;124;03mMapping for different types of objects from the parsing submodule.\u001b[39;00m\n\u001b[1;32m     73\u001b[0m \u001b[38;5;124;03m\"\"\"\u001b[39;00m\n\u001b[1;32m     74\u001b[0m \u001b[38;5;28;01mfrom\u001b[39;00m \u001b[38;5;21;01m.\u001b[39;00m\u001b[38;5;21;01mrendering\u001b[39;00m \u001b[38;5;28;01mimport\u001b[39;00m get_html\n\u001b[0;32m---> 75\u001b[0m \u001b[38;5;28;01mreturn\u001b[39;00m \u001b[43mget_html\u001b[49m\u001b[43m(\u001b[49m\u001b[43melement\u001b[49m\u001b[43m,\u001b[49m\u001b[43m \u001b[49m\u001b[38;5;241;43m*\u001b[39;49m\u001b[38;5;241;43m*\u001b[39;49m\u001b[43moptions\u001b[49m\u001b[43m)\u001b[49m\n",
      "File \u001b[0;32m~/Documents/Repositories/bakepy/bakepy/rendering.py:76\u001b[0m, in \u001b[0;36mget_html\u001b[0;34m(element, **options)\u001b[0m\n\u001b[1;32m     61\u001b[0m \u001b[38;5;28;01mdef\u001b[39;00m \u001b[38;5;21mget_html\u001b[39m(element, \u001b[38;5;241m*\u001b[39m\u001b[38;5;241m*\u001b[39moptions):\n\u001b[1;32m     62\u001b[0m     \u001b[38;5;124;03m\"\"\"\u001b[39;00m\n\u001b[1;32m     63\u001b[0m \u001b[38;5;124;03m    Renders an object to an HTML string.\u001b[39;00m\n\u001b[1;32m     64\u001b[0m \u001b[38;5;124;03m    \u001b[39;00m\n\u001b[0;32m   (...)\u001b[0m\n\u001b[1;32m     74\u001b[0m \u001b[38;5;124;03m        An HTML string.\u001b[39;00m\n\u001b[1;32m     75\u001b[0m \u001b[38;5;124;03m    \"\"\"\u001b[39;00m\n\u001b[0;32m---> 76\u001b[0m     \u001b[38;5;28;01mreturn\u001b[39;00m \u001b[43mget_render_function\u001b[49m\u001b[43m(\u001b[49m\u001b[43melement\u001b[49m\u001b[43m)\u001b[49m\u001b[43m(\u001b[49m\u001b[43melement\u001b[49m\u001b[43m,\u001b[49m\u001b[43m \u001b[49m\u001b[38;5;241;43m*\u001b[39;49m\u001b[38;5;241;43m*\u001b[39;49m\u001b[43moptions\u001b[49m\u001b[43m)\u001b[49m\n",
      "File \u001b[0;32m~/Documents/Repositories/bakepy/bakepy/rendering.py:131\u001b[0m, in \u001b[0;36m_get_htmlelement_html\u001b[0;34m(element, **_options)\u001b[0m\n\u001b[1;32m    115\u001b[0m \u001b[38;5;129m@register_html_renderer\u001b[39m(\u001b[38;5;28mcls\u001b[39m\u001b[38;5;241m=\u001b[39mHTMLElement)\n\u001b[1;32m    116\u001b[0m \u001b[38;5;28;01mdef\u001b[39;00m \u001b[38;5;21m_get_htmlelement_html\u001b[39m(element, \u001b[38;5;241m*\u001b[39m\u001b[38;5;241m*\u001b[39m_options):\n\u001b[1;32m    117\u001b[0m     \u001b[38;5;124;03m\"\"\"\u001b[39;00m\n\u001b[1;32m    118\u001b[0m \u001b[38;5;124;03m    Rendering function for HTMLElement objects. Calls the object's to_html() function.\u001b[39;00m\n\u001b[1;32m    119\u001b[0m \n\u001b[0;32m   (...)\u001b[0m\n\u001b[1;32m    129\u001b[0m \u001b[38;5;124;03m        An HTML string.\u001b[39;00m\n\u001b[1;32m    130\u001b[0m \u001b[38;5;124;03m    \"\"\"\u001b[39;00m\n\u001b[0;32m--> 131\u001b[0m     \u001b[38;5;28;01mreturn\u001b[39;00m \u001b[43melement\u001b[49m\u001b[38;5;241;43m.\u001b[39;49m\u001b[43mto_html\u001b[49m\u001b[43m(\u001b[49m\u001b[43m)\u001b[49m\n",
      "File \u001b[0;32m~/Documents/Repositories/bakepy/bakepy/html.py:42\u001b[0m, in \u001b[0;36mHTMLElement.to_html\u001b[0;34m(self)\u001b[0m\n\u001b[1;32m     41\u001b[0m \u001b[38;5;28;01mdef\u001b[39;00m \u001b[38;5;21mto_html\u001b[39m(\u001b[38;5;28mself\u001b[39m): \n\u001b[0;32m---> 42\u001b[0m     \u001b[38;5;28;01mreturn\u001b[39;00m \u001b[38;5;28mself\u001b[39m\u001b[38;5;241m.\u001b[39mget_head() \u001b[38;5;241m+\u001b[39m\u001b[38;5;124m'\u001b[39m\u001b[38;5;130;01m\\n\u001b[39;00m\u001b[38;5;124m'\u001b[39m\u001b[38;5;241m.\u001b[39mjoin([\u001b[38;5;28mself\u001b[39m\u001b[38;5;241m.\u001b[39m_get_html_element(x, \u001b[38;5;241m*\u001b[39m\u001b[38;5;241m*\u001b[39mo) \u001b[38;5;28;01mfor\u001b[39;00m (x, o) \u001b[38;5;129;01min\u001b[39;00m \u001b[38;5;28mzip\u001b[39m(\u001b[38;5;28mself\u001b[39m\u001b[38;5;241m.\u001b[39melements, \u001b[38;5;28mself\u001b[39m\u001b[38;5;241m.\u001b[39mparse_options)])\u001b[38;5;241m+\u001b[39m \u001b[38;5;28mself\u001b[39m\u001b[38;5;241m.\u001b[39mget_tail()\n",
      "File \u001b[0;32m~/Documents/Repositories/bakepy/bakepy/html.py:42\u001b[0m, in \u001b[0;36m<listcomp>\u001b[0;34m(.0)\u001b[0m\n\u001b[1;32m     41\u001b[0m \u001b[38;5;28;01mdef\u001b[39;00m \u001b[38;5;21mto_html\u001b[39m(\u001b[38;5;28mself\u001b[39m): \n\u001b[0;32m---> 42\u001b[0m     \u001b[38;5;28;01mreturn\u001b[39;00m \u001b[38;5;28mself\u001b[39m\u001b[38;5;241m.\u001b[39mget_head() \u001b[38;5;241m+\u001b[39m\u001b[38;5;124m'\u001b[39m\u001b[38;5;130;01m\\n\u001b[39;00m\u001b[38;5;124m'\u001b[39m\u001b[38;5;241m.\u001b[39mjoin([\u001b[38;5;28;43mself\u001b[39;49m\u001b[38;5;241;43m.\u001b[39;49m\u001b[43m_get_html_element\u001b[49m\u001b[43m(\u001b[49m\u001b[43mx\u001b[49m\u001b[43m,\u001b[49m\u001b[43m \u001b[49m\u001b[38;5;241;43m*\u001b[39;49m\u001b[38;5;241;43m*\u001b[39;49m\u001b[43mo\u001b[49m\u001b[43m)\u001b[49m \u001b[38;5;28;01mfor\u001b[39;00m (x, o) \u001b[38;5;129;01min\u001b[39;00m \u001b[38;5;28mzip\u001b[39m(\u001b[38;5;28mself\u001b[39m\u001b[38;5;241m.\u001b[39melements, \u001b[38;5;28mself\u001b[39m\u001b[38;5;241m.\u001b[39mparse_options)])\u001b[38;5;241m+\u001b[39m \u001b[38;5;28mself\u001b[39m\u001b[38;5;241m.\u001b[39mget_tail()\n",
      "File \u001b[0;32m~/Documents/Repositories/bakepy/bakepy/html.py:75\u001b[0m, in \u001b[0;36mHTMLElement._get_html_element\u001b[0;34m(self, element, **options)\u001b[0m\n\u001b[1;32m     71\u001b[0m \u001b[38;5;124;03m\"\"\"\u001b[39;00m\n\u001b[1;32m     72\u001b[0m \u001b[38;5;124;03mMapping for different types of objects from the parsing submodule.\u001b[39;00m\n\u001b[1;32m     73\u001b[0m \u001b[38;5;124;03m\"\"\"\u001b[39;00m\n\u001b[1;32m     74\u001b[0m \u001b[38;5;28;01mfrom\u001b[39;00m \u001b[38;5;21;01m.\u001b[39;00m\u001b[38;5;21;01mrendering\u001b[39;00m \u001b[38;5;28;01mimport\u001b[39;00m get_html\n\u001b[0;32m---> 75\u001b[0m \u001b[38;5;28;01mreturn\u001b[39;00m \u001b[43mget_html\u001b[49m\u001b[43m(\u001b[49m\u001b[43melement\u001b[49m\u001b[43m,\u001b[49m\u001b[43m \u001b[49m\u001b[38;5;241;43m*\u001b[39;49m\u001b[38;5;241;43m*\u001b[39;49m\u001b[43moptions\u001b[49m\u001b[43m)\u001b[49m\n",
      "File \u001b[0;32m~/Documents/Repositories/bakepy/bakepy/rendering.py:76\u001b[0m, in \u001b[0;36mget_html\u001b[0;34m(element, **options)\u001b[0m\n\u001b[1;32m     61\u001b[0m \u001b[38;5;28;01mdef\u001b[39;00m \u001b[38;5;21mget_html\u001b[39m(element, \u001b[38;5;241m*\u001b[39m\u001b[38;5;241m*\u001b[39moptions):\n\u001b[1;32m     62\u001b[0m     \u001b[38;5;124;03m\"\"\"\u001b[39;00m\n\u001b[1;32m     63\u001b[0m \u001b[38;5;124;03m    Renders an object to an HTML string.\u001b[39;00m\n\u001b[1;32m     64\u001b[0m \u001b[38;5;124;03m    \u001b[39;00m\n\u001b[0;32m   (...)\u001b[0m\n\u001b[1;32m     74\u001b[0m \u001b[38;5;124;03m        An HTML string.\u001b[39;00m\n\u001b[1;32m     75\u001b[0m \u001b[38;5;124;03m    \"\"\"\u001b[39;00m\n\u001b[0;32m---> 76\u001b[0m     \u001b[38;5;28;01mreturn\u001b[39;00m \u001b[43mget_render_function\u001b[49m\u001b[43m(\u001b[49m\u001b[43melement\u001b[49m\u001b[43m)\u001b[49m\u001b[43m(\u001b[49m\u001b[43melement\u001b[49m\u001b[43m,\u001b[49m\u001b[43m \u001b[49m\u001b[38;5;241;43m*\u001b[39;49m\u001b[38;5;241;43m*\u001b[39;49m\u001b[43moptions\u001b[49m\u001b[43m)\u001b[49m\n",
      "File \u001b[0;32m~/Documents/Repositories/bakepy/bakepy/rendering.py:131\u001b[0m, in \u001b[0;36m_get_htmlelement_html\u001b[0;34m(element, **_options)\u001b[0m\n\u001b[1;32m    115\u001b[0m \u001b[38;5;129m@register_html_renderer\u001b[39m(\u001b[38;5;28mcls\u001b[39m\u001b[38;5;241m=\u001b[39mHTMLElement)\n\u001b[1;32m    116\u001b[0m \u001b[38;5;28;01mdef\u001b[39;00m \u001b[38;5;21m_get_htmlelement_html\u001b[39m(element, \u001b[38;5;241m*\u001b[39m\u001b[38;5;241m*\u001b[39m_options):\n\u001b[1;32m    117\u001b[0m     \u001b[38;5;124;03m\"\"\"\u001b[39;00m\n\u001b[1;32m    118\u001b[0m \u001b[38;5;124;03m    Rendering function for HTMLElement objects. Calls the object's to_html() function.\u001b[39;00m\n\u001b[1;32m    119\u001b[0m \n\u001b[0;32m   (...)\u001b[0m\n\u001b[1;32m    129\u001b[0m \u001b[38;5;124;03m        An HTML string.\u001b[39;00m\n\u001b[1;32m    130\u001b[0m \u001b[38;5;124;03m    \"\"\"\u001b[39;00m\n\u001b[0;32m--> 131\u001b[0m     \u001b[38;5;28;01mreturn\u001b[39;00m \u001b[43melement\u001b[49m\u001b[38;5;241;43m.\u001b[39;49m\u001b[43mto_html\u001b[49m\u001b[43m(\u001b[49m\u001b[43m)\u001b[49m\n",
      "File \u001b[0;32m~/Documents/Repositories/bakepy/bakepy/html.py:42\u001b[0m, in \u001b[0;36mHTMLElement.to_html\u001b[0;34m(self)\u001b[0m\n\u001b[1;32m     41\u001b[0m \u001b[38;5;28;01mdef\u001b[39;00m \u001b[38;5;21mto_html\u001b[39m(\u001b[38;5;28mself\u001b[39m): \n\u001b[0;32m---> 42\u001b[0m     \u001b[38;5;28;01mreturn\u001b[39;00m \u001b[38;5;28mself\u001b[39m\u001b[38;5;241m.\u001b[39mget_head() \u001b[38;5;241m+\u001b[39m\u001b[38;5;124m'\u001b[39m\u001b[38;5;130;01m\\n\u001b[39;00m\u001b[38;5;124m'\u001b[39m\u001b[38;5;241m.\u001b[39mjoin([\u001b[38;5;28mself\u001b[39m\u001b[38;5;241m.\u001b[39m_get_html_element(x, \u001b[38;5;241m*\u001b[39m\u001b[38;5;241m*\u001b[39mo) \u001b[38;5;28;01mfor\u001b[39;00m (x, o) \u001b[38;5;129;01min\u001b[39;00m \u001b[38;5;28mzip\u001b[39m(\u001b[38;5;28mself\u001b[39m\u001b[38;5;241m.\u001b[39melements, \u001b[38;5;28mself\u001b[39m\u001b[38;5;241m.\u001b[39mparse_options)])\u001b[38;5;241m+\u001b[39m \u001b[38;5;28mself\u001b[39m\u001b[38;5;241m.\u001b[39mget_tail()\n",
      "File \u001b[0;32m~/Documents/Repositories/bakepy/bakepy/html.py:42\u001b[0m, in \u001b[0;36m<listcomp>\u001b[0;34m(.0)\u001b[0m\n\u001b[1;32m     41\u001b[0m \u001b[38;5;28;01mdef\u001b[39;00m \u001b[38;5;21mto_html\u001b[39m(\u001b[38;5;28mself\u001b[39m): \n\u001b[0;32m---> 42\u001b[0m     \u001b[38;5;28;01mreturn\u001b[39;00m \u001b[38;5;28mself\u001b[39m\u001b[38;5;241m.\u001b[39mget_head() \u001b[38;5;241m+\u001b[39m\u001b[38;5;124m'\u001b[39m\u001b[38;5;130;01m\\n\u001b[39;00m\u001b[38;5;124m'\u001b[39m\u001b[38;5;241m.\u001b[39mjoin([\u001b[38;5;28;43mself\u001b[39;49m\u001b[38;5;241;43m.\u001b[39;49m\u001b[43m_get_html_element\u001b[49m\u001b[43m(\u001b[49m\u001b[43mx\u001b[49m\u001b[43m,\u001b[49m\u001b[43m \u001b[49m\u001b[38;5;241;43m*\u001b[39;49m\u001b[38;5;241;43m*\u001b[39;49m\u001b[43mo\u001b[49m\u001b[43m)\u001b[49m \u001b[38;5;28;01mfor\u001b[39;00m (x, o) \u001b[38;5;129;01min\u001b[39;00m \u001b[38;5;28mzip\u001b[39m(\u001b[38;5;28mself\u001b[39m\u001b[38;5;241m.\u001b[39melements, \u001b[38;5;28mself\u001b[39m\u001b[38;5;241m.\u001b[39mparse_options)])\u001b[38;5;241m+\u001b[39m \u001b[38;5;28mself\u001b[39m\u001b[38;5;241m.\u001b[39mget_tail()\n",
      "File \u001b[0;32m~/Documents/Repositories/bakepy/bakepy/html.py:75\u001b[0m, in \u001b[0;36mHTMLElement._get_html_element\u001b[0;34m(self, element, **options)\u001b[0m\n\u001b[1;32m     71\u001b[0m \u001b[38;5;124;03m\"\"\"\u001b[39;00m\n\u001b[1;32m     72\u001b[0m \u001b[38;5;124;03mMapping for different types of objects from the parsing submodule.\u001b[39;00m\n\u001b[1;32m     73\u001b[0m \u001b[38;5;124;03m\"\"\"\u001b[39;00m\n\u001b[1;32m     74\u001b[0m \u001b[38;5;28;01mfrom\u001b[39;00m \u001b[38;5;21;01m.\u001b[39;00m\u001b[38;5;21;01mrendering\u001b[39;00m \u001b[38;5;28;01mimport\u001b[39;00m get_html\n\u001b[0;32m---> 75\u001b[0m \u001b[38;5;28;01mreturn\u001b[39;00m \u001b[43mget_html\u001b[49m\u001b[43m(\u001b[49m\u001b[43melement\u001b[49m\u001b[43m,\u001b[49m\u001b[43m \u001b[49m\u001b[38;5;241;43m*\u001b[39;49m\u001b[38;5;241;43m*\u001b[39;49m\u001b[43moptions\u001b[49m\u001b[43m)\u001b[49m\n",
      "File \u001b[0;32m~/Documents/Repositories/bakepy/bakepy/rendering.py:76\u001b[0m, in \u001b[0;36mget_html\u001b[0;34m(element, **options)\u001b[0m\n\u001b[1;32m     61\u001b[0m \u001b[38;5;28;01mdef\u001b[39;00m \u001b[38;5;21mget_html\u001b[39m(element, \u001b[38;5;241m*\u001b[39m\u001b[38;5;241m*\u001b[39moptions):\n\u001b[1;32m     62\u001b[0m     \u001b[38;5;124;03m\"\"\"\u001b[39;00m\n\u001b[1;32m     63\u001b[0m \u001b[38;5;124;03m    Renders an object to an HTML string.\u001b[39;00m\n\u001b[1;32m     64\u001b[0m \u001b[38;5;124;03m    \u001b[39;00m\n\u001b[0;32m   (...)\u001b[0m\n\u001b[1;32m     74\u001b[0m \u001b[38;5;124;03m        An HTML string.\u001b[39;00m\n\u001b[1;32m     75\u001b[0m \u001b[38;5;124;03m    \"\"\"\u001b[39;00m\n\u001b[0;32m---> 76\u001b[0m     \u001b[38;5;28;01mreturn\u001b[39;00m \u001b[43mget_render_function\u001b[49m\u001b[43m(\u001b[49m\u001b[43melement\u001b[49m\u001b[43m)\u001b[49m\u001b[43m(\u001b[49m\u001b[43melement\u001b[49m\u001b[43m,\u001b[49m\u001b[43m \u001b[49m\u001b[38;5;241;43m*\u001b[39;49m\u001b[38;5;241;43m*\u001b[39;49m\u001b[43moptions\u001b[49m\u001b[43m)\u001b[49m\n",
      "File \u001b[0;32m~/Documents/Repositories/bakepy/bakepy/rendering.py:214\u001b[0m, in \u001b[0;36m_get_matplotlib_html\u001b[0;34m(fig, caption, save_format, embed, **options)\u001b[0m\n\u001b[1;32m    211\u001b[0m \u001b[38;5;28;01mif\u001b[39;00m save_format \u001b[38;5;241m==\u001b[39m \u001b[38;5;124m\"\u001b[39m\u001b[38;5;124msvg\u001b[39m\u001b[38;5;124m\"\u001b[39m:\n\u001b[1;32m    212\u001b[0m     \u001b[38;5;66;03m#Change the format of svg file to have max width/height\u001b[39;00m\n\u001b[1;32m    213\u001b[0m     \u001b[38;5;28;01mwith\u001b[39;00m \u001b[38;5;28mopen\u001b[39m(filename,\u001b[38;5;124m'\u001b[39m\u001b[38;5;124mr+\u001b[39m\u001b[38;5;124m'\u001b[39m) \u001b[38;5;28;01mas\u001b[39;00m file:\n\u001b[0;32m--> 214\u001b[0m         soup \u001b[38;5;241m=\u001b[39m \u001b[43mBeautifulSoup\u001b[49m\u001b[43m(\u001b[49m\u001b[43mfile\u001b[49m\u001b[43m,\u001b[49m\u001b[43m \u001b[49m\u001b[43mfeatures\u001b[49m\u001b[38;5;241;43m=\u001b[39;49m\u001b[38;5;124;43m\"\u001b[39;49m\u001b[38;5;124;43mlxml-xml\u001b[39;49m\u001b[38;5;124;43m\"\u001b[39;49m\u001b[43m)\u001b[49m\n\u001b[1;32m    215\u001b[0m         \u001b[38;5;28;01mfor\u001b[39;00m svg_f \u001b[38;5;129;01min\u001b[39;00m soup\u001b[38;5;241m.\u001b[39mfind_all(\u001b[38;5;124m'\u001b[39m\u001b[38;5;124msvg\u001b[39m\u001b[38;5;124m'\u001b[39m):\n\u001b[1;32m    216\u001b[0m             svg_f\u001b[38;5;241m.\u001b[39mattrs[\u001b[38;5;124m\"\u001b[39m\u001b[38;5;124mwidth\u001b[39m\u001b[38;5;124m\"\u001b[39m] \u001b[38;5;241m=\u001b[39m \u001b[38;5;124m\"\u001b[39m\u001b[38;5;124m100\u001b[39m\u001b[38;5;124m%\u001b[39m\u001b[38;5;124m\"\u001b[39m\n",
      "File \u001b[0;32m~/.local/share/hatch/env/virtual/bakepy-1jbPv3N_/py38/lib/python3.8/site-packages/bs4/__init__.py:248\u001b[0m, in \u001b[0;36mBeautifulSoup.__init__\u001b[0;34m(self, markup, features, builder, parse_only, from_encoding, exclude_encodings, element_classes, **kwargs)\u001b[0m\n\u001b[1;32m    246\u001b[0m     builder_class \u001b[38;5;241m=\u001b[39m builder_registry\u001b[38;5;241m.\u001b[39mlookup(\u001b[38;5;241m*\u001b[39mfeatures)\n\u001b[1;32m    247\u001b[0m     \u001b[38;5;28;01mif\u001b[39;00m builder_class \u001b[38;5;129;01mis\u001b[39;00m \u001b[38;5;28;01mNone\u001b[39;00m:\n\u001b[0;32m--> 248\u001b[0m         \u001b[38;5;28;01mraise\u001b[39;00m FeatureNotFound(\n\u001b[1;32m    249\u001b[0m             \u001b[38;5;124m\"\u001b[39m\u001b[38;5;124mCouldn\u001b[39m\u001b[38;5;124m'\u001b[39m\u001b[38;5;124mt find a tree builder with the features you \u001b[39m\u001b[38;5;124m\"\u001b[39m\n\u001b[1;32m    250\u001b[0m             \u001b[38;5;124m\"\u001b[39m\u001b[38;5;124mrequested: \u001b[39m\u001b[38;5;132;01m%s\u001b[39;00m\u001b[38;5;124m. Do you need to install a parser library?\u001b[39m\u001b[38;5;124m\"\u001b[39m\n\u001b[1;32m    251\u001b[0m             \u001b[38;5;241m%\u001b[39m \u001b[38;5;124m\"\u001b[39m\u001b[38;5;124m,\u001b[39m\u001b[38;5;124m\"\u001b[39m\u001b[38;5;241m.\u001b[39mjoin(features))\n\u001b[1;32m    253\u001b[0m \u001b[38;5;66;03m# At this point either we have a TreeBuilder instance in\u001b[39;00m\n\u001b[1;32m    254\u001b[0m \u001b[38;5;66;03m# builder, or we have a builder_class that we can instantiate\u001b[39;00m\n\u001b[1;32m    255\u001b[0m \u001b[38;5;66;03m# with the remaining **kwargs.\u001b[39;00m\n\u001b[1;32m    256\u001b[0m \u001b[38;5;28;01mif\u001b[39;00m builder \u001b[38;5;129;01mis\u001b[39;00m \u001b[38;5;28;01mNone\u001b[39;00m:\n",
      "\u001b[0;31mFeatureNotFound\u001b[0m: Couldn't find a tree builder with the features you requested: lxml-xml. Do you need to install a parser library?"
     ]
    },
    {
     "data": {
      "image/png": "[encoded data removed]",
      "text/plain": [
       "<Figure size 640x480 with 1 Axes>"
      ]
     },
     "metadata": {},
     "output_type": "display_data"
    }
   ],
   "source": [
    "import pandas as pd \n",
    "from datetime import datetime as dt\n",
    "from bakepy import Report\n",
    "\n",
    "r = Report()\n",
    "\n",
    "r.recipe(\"title\", \"Example BakePy Report\")\n",
    "\n",
    "r.recipe(\"markdown\",\n",
    "f\"\"\"\n",
    "### {dt.now().strftime(\"%Y-%m-%d\")}\n",
    "\"\"\")\n",
    "#We want to center text in the current column.\n",
    "r.set_col_cls(\"text-center\")\n",
    "\n",
    "#A separator\n",
    "r.recipe(\"separator\")\n",
    "\n",
    "#Some variables\n",
    "a = 4\n",
    "color = \"blue\"\n",
    "l = [\"red\", 3, False]\n",
    "#Replacing variables in generated text.\n",
    "r.recipe(\"markdown\",\n",
    "f\"\"\"\n",
    "We can add markdown and use the power of Python to mix:\n",
    "\n",
    "- Variables, like a={a}\n",
    "- Conditional formatting, like adding the <span style=\"color:{color}\">color {color}</span>\n",
    "- And even directly transform Python objects beyond things like the list: {l}\n",
    "\"\"\"\n",
    ")\n",
    "#Now we add some more text, this time in the same row we were at before.\n",
    "r.add(\"<h2> See some examples below! </h2>\", new_row = False)\n",
    "#We can even add items to the same column!\n",
    "r.recipe(\"spacer\", level = 3, new_col = False)\n",
    "r.add(\n",
    "\"\"\"\n",
    "For example, Pandas Dataframes and Matplotlib Figures\n",
    "\"\"\", new_col = False)\n",
    "\n",
    "#Adding a DataFrame in a new line.\n",
    "data = {\n",
    "  \"cost\": [10, 23, 40],\n",
    "  \"gain\": [20, 40, 45]\n",
    "}\n",
    "df = pd.DataFrame(data)\n",
    "\n",
    "r.add(df, index = False, caption = \"This is a table\")\n",
    "#We set row items to be aligned at the center.\n",
    "r.set_row_cls(\"align-items-center\")\n",
    "\n",
    "#Adding a plot on the same line.\n",
    "r.add(df.plot(x=\"cost\", y=\"gain\"), size=6, caption = \"This is a figure\", new_row=False)\n",
    "#Saving the report\n",
    "\n",
    "#An image\n",
    "r.recipe(\"img\",\n",
    "\"https://upload.wikimedia.org/wikipedia/en/thumb/8/80/Wikipedia-logo-v2.svg/800px-Wikipedia-logo-v2.svg.png\",\n",
    "size = 2,\n",
    "caption = \"Adding an image from the Internet.\")\n",
    "\n",
    "r.save_html(\"example_report.html\")"
   ]
  },
  {
   "cell_type": "code",
   "execution_count": 2,
   "id": "b70d28c2",
   "metadata": {},
   "outputs": [],
   "source": [
    "r.save_html(\"example_report.html\")"
   ]
  },
  {
   "cell_type": "markdown",
   "id": "be5f68c9",
   "metadata": {},
   "source": [
    "### Information about recipes:"
   ]
  },
  {
   "cell_type": "code",
   "execution_count": 3,
   "id": "317b9ba7",
   "metadata": {},
   "outputs": [
    {
     "data": {
      "text/plain": [
       "dict_keys(['separator', 'img', 'markdown', 'title', 'spacer'])"
      ]
     },
     "execution_count": 3,
     "metadata": {},
     "output_type": "execute_result"
    }
   ],
   "source": [
    "r.get_recipes()"
   ]
  },
  {
   "cell_type": "code",
   "execution_count": 4,
   "id": "3c8a9cf2",
   "metadata": {},
   "outputs": [
    {
     "name": "stdout",
     "output_type": "stream",
     "text": [
      "Help on function _get_img in module bakepy.recipes:\n",
      "\n",
      "_get_img(url, caption=None)\n",
      "    Adds an image from a path.\n",
      "    \n",
      "    Parameters\n",
      "    ----------\n",
      "    url: str\n",
      "        The path (local or remote) to the image file.\n",
      "    caption: str, default = None\n",
      "        The caption for the image.\n",
      "\n"
     ]
    }
   ],
   "source": [
    "r.get_recipe_info(\"img\")"
   ]
  },
  {
   "cell_type": "markdown",
   "id": "ef61b3d6",
   "metadata": {},
   "source": [
    "### Information about renderers:"
   ]
  },
  {
   "cell_type": "code",
   "execution_count": 5,
   "id": "23b61ed9",
   "metadata": {},
   "outputs": [
    {
     "data": {
      "text/plain": [
       "dict_keys([<class 'object'>, <class 'str'>, <class 'bakepy.html.HTMLElement'>, <class 'pandas.core.frame.DataFrame'>, <class 'matplotlib.artist.Artist'>])"
      ]
     },
     "execution_count": 5,
     "metadata": {},
     "output_type": "execute_result"
    }
   ],
   "source": [
    "r.get_renderers()"
   ]
  },
  {
   "cell_type": "code",
   "execution_count": 6,
   "id": "72c51b2f",
   "metadata": {},
   "outputs": [
    {
     "name": "stdout",
     "output_type": "stream",
     "text": [
      "Found a renderer for the type <class 'pandas.core.frame.DataFrame'>.\n",
      "Help on function _get_pandas_html in module bakepy.rendering:\n",
      "\n",
      "_get_pandas_html(df, caption=None, classes=['table', 'table-bordered'], justify='left', index=True, **options)\n",
      "    Rendering function for pandas dataframes.\n",
      "    \n",
      "    Parameters\n",
      "    ----------\n",
      "    df: DataFrame\n",
      "        The dataframe to render.\n",
      "    caption: str, default = None\n",
      "        The table's caption.\n",
      "    classes: list, default = [\"table\", \"table-bordered\"]\n",
      "        A list of classes to apply to the HTML table generated.\n",
      "    justify: str, default=\"left\"\n",
      "        The justification for the table's text.\n",
      "    index: bool, default=True\n",
      "        If True, adds the index to the HTML render of the dataframe.\n",
      "    Returns\n",
      "    ----------\n",
      "    repr: str\n",
      "        An HTML string.\n",
      "\n"
     ]
    }
   ],
   "source": [
    "r.get_renderer_info(df, verbose=True)"
   ]
  },
  {
   "cell_type": "code",
   "execution_count": 7,
   "id": "01a9ff72",
   "metadata": {},
   "outputs": [
    {
     "name": "stdout",
     "output_type": "stream",
     "text": [
      "Found no associated renderer for the type <class 'int'>.\n",
      "Found a renderer for the type <class 'object'>.\n",
      "Help on function _default_html_conversion in module bakepy.rendering:\n",
      "\n",
      "_default_html_conversion(element, **_options)\n",
      "    A default rendering function for any unimplemented types. Returns the object's string representation.\n",
      "    \n",
      "    Parameters\n",
      "    ----------\n",
      "    element: Object\n",
      "        The object to render.\n",
      "    _options: dict\n",
      "        Unused. Kept for compatibility with get_html()\n",
      "    Returns\n",
      "    ----------\n",
      "    repr: str\n",
      "        An HTML string.\n",
      "\n"
     ]
    }
   ],
   "source": [
    "r.get_renderer_info(1, verbose=True)"
   ]
  },
  {
   "cell_type": "code",
   "execution_count": 14,
   "id": "ceb9a146",
   "metadata": {},
   "outputs": [
    {
     "name": "stdout",
     "output_type": "stream",
     "text": [
      "The bakepy extension is already loaded. To reload it, use:\n",
      "  %reload_ext bakepy\n"
     ]
    }
   ],
   "source": [
    "%load_ext bakepy"
   ]
  },
  {
   "cell_type": "code",
   "execution_count": 16,
   "id": "73a93b35",
   "metadata": {},
   "outputs": [
    {
     "name": "stdout",
     "output_type": "stream",
     "text": [
      "Called as line magic\n",
      "Namespace(caption=None, col=None, container=None, copy=False, html=False, latex=False, new_col=True, new_row=True, overwrite=False, report=None, row=None, size=None)\n",
      "My results are:\n"
     ]
    },
    {
     "ename": "TypeError",
     "evalue": "eval() arg 1 must be a string, bytes or code object",
     "output_type": "error",
     "traceback": [
      "\u001b[0;31m---------------------------------------------------------------------------\u001b[0m",
      "\u001b[0;31mTypeError\u001b[0m                                 Traceback (most recent call last)",
      "Cell \u001b[0;32mIn [16], line 1\u001b[0m\n\u001b[0;32m----> 1\u001b[0m \u001b[43mget_ipython\u001b[49m\u001b[43m(\u001b[49m\u001b[43m)\u001b[49m\u001b[38;5;241;43m.\u001b[39;49m\u001b[43mrun_line_magic\u001b[49m\u001b[43m(\u001b[49m\u001b[38;5;124;43m'\u001b[39;49m\u001b[38;5;124;43mbake\u001b[39;49m\u001b[38;5;124;43m'\u001b[39;49m\u001b[43m,\u001b[49m\u001b[43m \u001b[49m\u001b[38;5;124;43m'\u001b[39;49m\u001b[38;5;124;43m'\u001b[39;49m\u001b[43m)\u001b[49m\n",
      "File \u001b[0;32m~/.local/share/hatch/env/virtual/bakepy-1jbPv3N_/py38/lib/python3.8/site-packages/IPython/core/interactiveshell.py:2364\u001b[0m, in \u001b[0;36mInteractiveShell.run_line_magic\u001b[0;34m(self, magic_name, line, _stack_depth)\u001b[0m\n\u001b[1;32m   2362\u001b[0m     kwargs[\u001b[38;5;124m'\u001b[39m\u001b[38;5;124mlocal_ns\u001b[39m\u001b[38;5;124m'\u001b[39m] \u001b[38;5;241m=\u001b[39m \u001b[38;5;28mself\u001b[39m\u001b[38;5;241m.\u001b[39mget_local_scope(stack_depth)\n\u001b[1;32m   2363\u001b[0m \u001b[38;5;28;01mwith\u001b[39;00m \u001b[38;5;28mself\u001b[39m\u001b[38;5;241m.\u001b[39mbuiltin_trap:\n\u001b[0;32m-> 2364\u001b[0m     result \u001b[38;5;241m=\u001b[39m \u001b[43mfn\u001b[49m\u001b[43m(\u001b[49m\u001b[38;5;241;43m*\u001b[39;49m\u001b[43margs\u001b[49m\u001b[43m,\u001b[49m\u001b[43m \u001b[49m\u001b[38;5;241;43m*\u001b[39;49m\u001b[38;5;241;43m*\u001b[39;49m\u001b[43mkwargs\u001b[49m\u001b[43m)\u001b[49m\n\u001b[1;32m   2365\u001b[0m \u001b[38;5;28;01mreturn\u001b[39;00m result\n",
      "File \u001b[0;32m~/Documents/Repositories/bakepy/bakepy/ipython.py:80\u001b[0m, in \u001b[0;36mBakeReportMagic.bake\u001b[0;34m(self, line, cell, local_ns)\u001b[0m\n\u001b[1;32m     78\u001b[0m     local_ns[args\u001b[38;5;241m.\u001b[39mreport] \u001b[38;5;241m=\u001b[39m \u001b[38;5;124m\"\u001b[39m\u001b[38;5;124mREPORT\u001b[39m\u001b[38;5;124m\"\u001b[39m\n\u001b[1;32m     79\u001b[0m \u001b[38;5;28mprint\u001b[39m(\u001b[38;5;124m\"\u001b[39m\u001b[38;5;124mMy results are:\u001b[39m\u001b[38;5;124m\"\u001b[39m)\n\u001b[0;32m---> 80\u001b[0m \u001b[38;5;28mprint\u001b[39m(markdown\u001b[38;5;241m.\u001b[39mmarkdown(\u001b[38;5;28;43meval\u001b[39;49m\u001b[43m(\u001b[49m\u001b[43mcell\u001b[49m\u001b[43m,\u001b[49m\u001b[43m \u001b[49m\u001b[38;5;28;43;01mNone\u001b[39;49;00m\u001b[43m,\u001b[49m\u001b[43m \u001b[49m\u001b[43mlocal_ns\u001b[49m\u001b[43m)\u001b[49m))\n",
      "\u001b[0;31mTypeError\u001b[0m: eval() arg 1 must be a string, bytes or code object"
     ]
    }
   ],
   "source": [
    "%bake"
   ]
  },
  {
   "cell_type": "code",
   "execution_count": 35,
   "id": "655b4e77",
   "metadata": {},
   "outputs": [
    {
     "ename": "NameError",
     "evalue": "name 'dictparse' is not defined",
     "output_type": "error",
     "traceback": [
      "\u001b[0;31m---------------------------------------------------------------------------\u001b[0m",
      "\u001b[0;31mNameError\u001b[0m                                 Traceback (most recent call last)",
      "Cell \u001b[0;32mIn [35], line 40\u001b[0m\n\u001b[1;32m     36\u001b[0m         \u001b[38;5;28;01mreturn\u001b[39;00m val\n\u001b[1;32m     37\u001b[0m     \u001b[38;5;28;01mraise\u001b[39;00m \u001b[38;5;167;01mException\u001b[39;00m(\u001b[38;5;124m\"\u001b[39m\u001b[38;5;124mInvalid Report name. Must be a valid identifier name.\u001b[39m\u001b[38;5;124m\"\u001b[39m)\n\u001b[1;32m     39\u001b[0m \u001b[38;5;129m@magics_class\u001b[39m\n\u001b[0;32m---> 40\u001b[0m \u001b[38;5;28;01mclass\u001b[39;00m \u001b[38;5;21;01mBake2ReportMagic\u001b[39;00m(Magics):\n\u001b[1;32m     41\u001b[0m     \u001b[38;5;66;03m#Add things to the report\u001b[39;00m\n\u001b[1;32m     42\u001b[0m     \u001b[38;5;129m@needs_local_scope\u001b[39m\n\u001b[1;32m     43\u001b[0m     \u001b[38;5;129m@magic_arguments\u001b[39m()\n\u001b[1;32m     44\u001b[0m     \u001b[38;5;129m@argument\u001b[39m(\u001b[38;5;124m'\u001b[39m\u001b[38;5;124m-R\u001b[39m\u001b[38;5;124m'\u001b[39m, \u001b[38;5;124m'\u001b[39m\u001b[38;5;124m--report\u001b[39m\u001b[38;5;124m'\u001b[39m, default\u001b[38;5;241m=\u001b[39m\u001b[38;5;28;01mNone\u001b[39;00m, \u001b[38;5;28mtype\u001b[39m\u001b[38;5;241m=\u001b[39midparse, help\u001b[38;5;241m=\u001b[39m\u001b[38;5;124m'\u001b[39m\u001b[38;5;124mThe name of the report to use. If it does not exist, it is created. If None, uses the current active report. Must be a valid Python identifier name.\u001b[39m\u001b[38;5;124m'\u001b[39m)\n\u001b[0;32m   (...)\u001b[0m\n\u001b[1;32m     62\u001b[0m     \u001b[38;5;129m@line_cell_magic\u001b[39m\n\u001b[1;32m     63\u001b[0m     \u001b[38;5;28;01mdef\u001b[39;00m \u001b[38;5;21mbake\u001b[39m(\u001b[38;5;28mself\u001b[39m, line, cell\u001b[38;5;241m=\u001b[39m\u001b[38;5;28;01mNone\u001b[39;00m, local_ns\u001b[38;5;241m=\u001b[39m\u001b[38;5;28;01mNone\u001b[39;00m):\n\u001b[1;32m     64\u001b[0m         \u001b[38;5;124;03m\"\"\"\u001b[39;00m\n\u001b[1;32m     65\u001b[0m \u001b[38;5;124;03m        IPython Magic that serves as a direct interface for adding elements to a BakePy Report.\u001b[39;00m\n\u001b[1;32m     66\u001b[0m \u001b[38;5;124;03m        \"\"\"\u001b[39;00m\n",
      "Cell \u001b[0;32mIn [35], line 53\u001b[0m, in \u001b[0;36mBake2ReportMagic\u001b[0;34m()\u001b[0m\n\u001b[1;32m     39\u001b[0m \u001b[38;5;129m@magics_class\u001b[39m\n\u001b[1;32m     40\u001b[0m \u001b[38;5;28;01mclass\u001b[39;00m \u001b[38;5;21;01mBake2ReportMagic\u001b[39;00m(Magics):\n\u001b[1;32m     41\u001b[0m     \u001b[38;5;66;03m#Add things to the report\u001b[39;00m\n\u001b[1;32m     42\u001b[0m     \u001b[38;5;129m@needs_local_scope\u001b[39m\n\u001b[1;32m     43\u001b[0m     \u001b[38;5;129m@magic_arguments\u001b[39m()\n\u001b[1;32m     44\u001b[0m     \u001b[38;5;129m@argument\u001b[39m(\u001b[38;5;124m'\u001b[39m\u001b[38;5;124m-R\u001b[39m\u001b[38;5;124m'\u001b[39m, \u001b[38;5;124m'\u001b[39m\u001b[38;5;124m--report\u001b[39m\u001b[38;5;124m'\u001b[39m, default\u001b[38;5;241m=\u001b[39m\u001b[38;5;28;01mNone\u001b[39;00m, \u001b[38;5;28mtype\u001b[39m\u001b[38;5;241m=\u001b[39midparse, help\u001b[38;5;241m=\u001b[39m\u001b[38;5;124m'\u001b[39m\u001b[38;5;124mThe name of the report to use. If it does not exist, it is created. If None, uses the current active report. Must be a valid Python identifier name.\u001b[39m\u001b[38;5;124m'\u001b[39m)\n\u001b[1;32m     45\u001b[0m     \u001b[38;5;129m@argument\u001b[39m(\u001b[38;5;124m'\u001b[39m\u001b[38;5;124m-C\u001b[39m\u001b[38;5;124m'\u001b[39m, \u001b[38;5;124m'\u001b[39m\u001b[38;5;124m--container\u001b[39m\u001b[38;5;124m'\u001b[39m, default\u001b[38;5;241m=\u001b[39m\u001b[38;5;28;01mNone\u001b[39;00m, \u001b[38;5;28mtype\u001b[39m\u001b[38;5;241m=\u001b[39mstrparse, help\u001b[38;5;241m=\u001b[39m\u001b[38;5;124m'\u001b[39m\u001b[38;5;124mThe name of the container to use. If it does not exist, it is created.\u001b[39m\u001b[38;5;124m'\u001b[39m)\n\u001b[1;32m     46\u001b[0m     \u001b[38;5;129m@argument\u001b[39m(\u001b[38;5;124m'\u001b[39m\u001b[38;5;124m-r\u001b[39m\u001b[38;5;124m'\u001b[39m, \u001b[38;5;124m'\u001b[39m\u001b[38;5;124m--row\u001b[39m\u001b[38;5;124m'\u001b[39m, default\u001b[38;5;241m=\u001b[39m\u001b[38;5;28;01mNone\u001b[39;00m, \u001b[38;5;28mtype\u001b[39m\u001b[38;5;241m=\u001b[39m\u001b[38;5;28mint\u001b[39m, help\u001b[38;5;241m=\u001b[39m\u001b[38;5;124m'\u001b[39m\u001b[38;5;124mThe row position to use. If none provided, uses the current row.\u001b[39m\u001b[38;5;124m'\u001b[39m)\n\u001b[1;32m     47\u001b[0m     \u001b[38;5;129m@argument\u001b[39m(\u001b[38;5;124m'\u001b[39m\u001b[38;5;124m-c\u001b[39m\u001b[38;5;124m'\u001b[39m, \u001b[38;5;124m'\u001b[39m\u001b[38;5;124m--col\u001b[39m\u001b[38;5;124m'\u001b[39m, default\u001b[38;5;241m=\u001b[39m\u001b[38;5;28;01mNone\u001b[39;00m, \u001b[38;5;28mtype\u001b[39m\u001b[38;5;241m=\u001b[39m\u001b[38;5;28mint\u001b[39m, help\u001b[38;5;241m=\u001b[39m\u001b[38;5;124m'\u001b[39m\u001b[38;5;124mThe position to take in the row. If none provided, inserts at the end of the current row.\u001b[39m\u001b[38;5;124m'\u001b[39m)\n\u001b[1;32m     48\u001b[0m     \u001b[38;5;129m@argument\u001b[39m(\u001b[38;5;124m'\u001b[39m\u001b[38;5;124m-nr\u001b[39m\u001b[38;5;124m'\u001b[39m, \u001b[38;5;124m'\u001b[39m\u001b[38;5;124m--new_row\u001b[39m\u001b[38;5;124m'\u001b[39m, default\u001b[38;5;241m=\u001b[39m\u001b[38;5;28;01mTrue\u001b[39;00m, \u001b[38;5;28mtype\u001b[39m\u001b[38;5;241m=\u001b[39mboolparse, help\u001b[38;5;241m=\u001b[39m\u001b[38;5;124m'\u001b[39m\u001b[38;5;124mWhether to use the active row or create a new one.\u001b[39m\u001b[38;5;124m'\u001b[39m)\n\u001b[1;32m     49\u001b[0m     \u001b[38;5;129m@argument\u001b[39m(\u001b[38;5;124m'\u001b[39m\u001b[38;5;124m-nc\u001b[39m\u001b[38;5;124m'\u001b[39m, \u001b[38;5;124m'\u001b[39m\u001b[38;5;124m--new_col\u001b[39m\u001b[38;5;124m'\u001b[39m, default\u001b[38;5;241m=\u001b[39m\u001b[38;5;28;01mTrue\u001b[39;00m, \u001b[38;5;28mtype\u001b[39m\u001b[38;5;241m=\u001b[39mboolparse, help\u001b[38;5;241m=\u001b[39m\u001b[38;5;124m'\u001b[39m\u001b[38;5;124mWhether to use the active col or create a new one.\u001b[39m\u001b[38;5;124m'\u001b[39m)\n\u001b[1;32m     50\u001b[0m     \u001b[38;5;129m@argument\u001b[39m(\u001b[38;5;124m'\u001b[39m\u001b[38;5;124m-s\u001b[39m\u001b[38;5;124m'\u001b[39m, \u001b[38;5;124m'\u001b[39m\u001b[38;5;124m--size\u001b[39m\u001b[38;5;124m'\u001b[39m, default\u001b[38;5;241m=\u001b[39m\u001b[38;5;28;01mNone\u001b[39;00m, \u001b[38;5;28mtype\u001b[39m\u001b[38;5;241m=\u001b[39m\u001b[38;5;28mint\u001b[39m, help\u001b[38;5;241m=\u001b[39m\u001b[38;5;124m'\u001b[39m\u001b[38;5;124mThe size of the column in the row.\u001b[39m\u001b[38;5;124m'\u001b[39m)\n\u001b[1;32m     51\u001b[0m     \u001b[38;5;129m@argument\u001b[39m(\u001b[38;5;124m'\u001b[39m\u001b[38;5;124m-S\u001b[39m\u001b[38;5;124m'\u001b[39m, \u001b[38;5;124m'\u001b[39m\u001b[38;5;124m--special\u001b[39m\u001b[38;5;124m'\u001b[39m, default\u001b[38;5;241m=\u001b[39m\u001b[38;5;28;01mNone\u001b[39;00m, \u001b[38;5;28mtype\u001b[39m\u001b[38;5;241m=\u001b[39mboolparse, help\u001b[38;5;241m=\u001b[39m\u001b[38;5;124m'\u001b[39m\u001b[38;5;124mWhether to use a special format (recipe) for the input or not. If None, it defaults to True for string inputs and False for any other type.\u001b[39m\u001b[38;5;124m'\u001b[39m)\n\u001b[1;32m     52\u001b[0m     \u001b[38;5;129m@argument\u001b[39m(\u001b[38;5;124m'\u001b[39m\u001b[38;5;124m-t\u001b[39m\u001b[38;5;124m'\u001b[39m, \u001b[38;5;124m'\u001b[39m\u001b[38;5;124m--recipe\u001b[39m\u001b[38;5;124m'\u001b[39m, default\u001b[38;5;241m=\u001b[39m\u001b[38;5;124m\"\u001b[39m\u001b[38;5;124mmarkdown\u001b[39m\u001b[38;5;124m\"\u001b[39m, \u001b[38;5;28mtype\u001b[39m\u001b[38;5;241m=\u001b[39m\u001b[38;5;28mstr\u001b[39m, help\u001b[38;5;241m=\u001b[39m\u001b[38;5;124m'\u001b[39m\u001b[38;5;124mThe recipe to use for the input.\u001b[39m\u001b[38;5;124m'\u001b[39m)\n\u001b[0;32m---> 53\u001b[0m     \u001b[38;5;129m@argument\u001b[39m(\u001b[38;5;124m'\u001b[39m\u001b[38;5;124m-a\u001b[39m\u001b[38;5;124m'\u001b[39m, \u001b[38;5;124m'\u001b[39m\u001b[38;5;124m--args\u001b[39m\u001b[38;5;124m'\u001b[39m, default\u001b[38;5;241m=\u001b[39m{}, \u001b[38;5;28mtype\u001b[39m\u001b[38;5;241m=\u001b[39m\u001b[43mdictparse\u001b[49m, help\u001b[38;5;241m=\u001b[39m\u001b[38;5;124m'\u001b[39m\u001b[38;5;124mDictionary of arguments to pass to recipe.\u001b[39m\u001b[38;5;124m'\u001b[39m)\n\u001b[1;32m     54\u001b[0m     \u001b[38;5;129m@argument\u001b[39m(\u001b[38;5;124m'\u001b[39m\u001b[38;5;124m-o\u001b[39m\u001b[38;5;124m'\u001b[39m, \u001b[38;5;124m'\u001b[39m\u001b[38;5;124m--overwrite\u001b[39m\u001b[38;5;124m'\u001b[39m, default\u001b[38;5;241m=\u001b[39m\u001b[38;5;28;01mFalse\u001b[39;00m, \u001b[38;5;28mtype\u001b[39m\u001b[38;5;241m=\u001b[39mboolparse, help\u001b[38;5;241m=\u001b[39m\u001b[38;5;124m'\u001b[39m\u001b[38;5;124mWhether to overwrite the given column. Only valid if col is not None.\u001b[39m\u001b[38;5;124m'\u001b[39m)\n\u001b[1;32m     55\u001b[0m     \u001b[38;5;129m@argument\u001b[39m(\u001b[38;5;124m'\u001b[39m\u001b[38;5;124m-cp\u001b[39m\u001b[38;5;124m'\u001b[39m, \u001b[38;5;124m'\u001b[39m\u001b[38;5;124m--copy\u001b[39m\u001b[38;5;124m'\u001b[39m, default\u001b[38;5;241m=\u001b[39m\u001b[38;5;28;01mFalse\u001b[39;00m, \u001b[38;5;28mtype\u001b[39m\u001b[38;5;241m=\u001b[39mboolparse, help\u001b[38;5;241m=\u001b[39m\u001b[38;5;124m'\u001b[39m\u001b[38;5;124mWhether to copy the input object before inserting to the report.\u001b[39m\u001b[38;5;124m'\u001b[39m)\n\u001b[1;32m     56\u001b[0m     \n\u001b[1;32m     57\u001b[0m     \u001b[38;5;129m@argument\u001b[39m(\u001b[38;5;124m'\u001b[39m\u001b[38;5;124m-l\u001b[39m\u001b[38;5;124m'\u001b[39m, \u001b[38;5;124m'\u001b[39m\u001b[38;5;124m--latex\u001b[39m\u001b[38;5;124m'\u001b[39m, default\u001b[38;5;241m=\u001b[39m\u001b[38;5;28;01mFalse\u001b[39;00m, \u001b[38;5;28mtype\u001b[39m\u001b[38;5;241m=\u001b[39mboolparse, help\u001b[38;5;241m=\u001b[39m\u001b[38;5;124m'\u001b[39m\u001b[38;5;124mWhether to evaluate LaTeX expresions. Only valid if cell output is a string.\u001b[39m\u001b[38;5;124m'\u001b[39m)\n\u001b[1;32m     58\u001b[0m     \u001b[38;5;129m@argument\u001b[39m(\u001b[38;5;124m'\u001b[39m\u001b[38;5;124m-h\u001b[39m\u001b[38;5;124m'\u001b[39m, \u001b[38;5;124m'\u001b[39m\u001b[38;5;124m--html\u001b[39m\u001b[38;5;124m'\u001b[39m, default\u001b[38;5;241m=\u001b[39m\u001b[38;5;28;01mFalse\u001b[39;00m, \u001b[38;5;28mtype\u001b[39m\u001b[38;5;241m=\u001b[39mboolparse, help\u001b[38;5;241m=\u001b[39m\u001b[38;5;124m'\u001b[39m\u001b[38;5;124mWhether to  evaluate input as raw HTML rather than markdown. Only valid if cell output is a string.\u001b[39m\u001b[38;5;124m'\u001b[39m)\n\u001b[1;32m     59\u001b[0m     \u001b[38;5;129m@argument\u001b[39m(\u001b[38;5;124m'\u001b[39m\u001b[38;5;124m-cap\u001b[39m\u001b[38;5;124m'\u001b[39m, \u001b[38;5;124m'\u001b[39m\u001b[38;5;124m--caption\u001b[39m\u001b[38;5;124m'\u001b[39m, default\u001b[38;5;241m=\u001b[39m\u001b[38;5;28;01mNone\u001b[39;00m, \u001b[38;5;28mtype\u001b[39m\u001b[38;5;241m=\u001b[39mstrparse, help\u001b[38;5;241m=\u001b[39m\u001b[38;5;124m'\u001b[39m\u001b[38;5;124mCaption for a DataFrame or Figure.\u001b[39m\u001b[38;5;124m'\u001b[39m)\n\u001b[1;32m     60\u001b[0m     \n\u001b[1;32m     61\u001b[0m     \n\u001b[1;32m     62\u001b[0m     \u001b[38;5;129m@line_cell_magic\u001b[39m\n\u001b[1;32m     63\u001b[0m     \u001b[38;5;28;01mdef\u001b[39;00m \u001b[38;5;21mbake\u001b[39m(\u001b[38;5;28mself\u001b[39m, line, cell\u001b[38;5;241m=\u001b[39m\u001b[38;5;28;01mNone\u001b[39;00m, local_ns\u001b[38;5;241m=\u001b[39m\u001b[38;5;28;01mNone\u001b[39;00m):\n\u001b[1;32m     64\u001b[0m         \u001b[38;5;124;03m\"\"\"\u001b[39;00m\n\u001b[1;32m     65\u001b[0m \u001b[38;5;124;03m        IPython Magic that serves as a direct interface for adding elements to a BakePy Report.\u001b[39;00m\n\u001b[1;32m     66\u001b[0m \u001b[38;5;124;03m        \"\"\"\u001b[39;00m\n\u001b[1;32m     67\u001b[0m         \u001b[38;5;28;01mif\u001b[39;00m cell \u001b[38;5;129;01mis\u001b[39;00m \u001b[38;5;28;01mNone\u001b[39;00m:\n",
      "\u001b[0;31mNameError\u001b[0m: name 'dictparse' is not defined"
     ]
    }
   ],
   "source": [
    "from IPython.core.magic import (Magics, magics_class, line_magic,\n",
    "                                cell_magic, line_cell_magic, needs_local_scope)\n",
    "\n",
    "from IPython.core.magic_arguments import (argument, magic_arguments,\n",
    "    parse_argstring)\n",
    "\n",
    "import markdown\n",
    "\n",
    "def strparse(val):\n",
    "    \"\"\"\n",
    "    Parse a string with support for spaces.\n",
    "    \"\"\"\n",
    "    if val.startswith('\"') and val.endswith('\"'):\n",
    "        #Using double-quotations\n",
    "        return val.strip('\"')\n",
    "    if val.startswith(\"'\") and val.endswith(\"'\"):\n",
    "        #Using single quotations\n",
    "        return val.strip(\"'\")\n",
    "    return val\n",
    "\n",
    "def boolparse(val):\n",
    "    \"\"\"\n",
    "    Parse a Boolean value.\n",
    "    \"\"\"\n",
    "    val = strparse(val).lower()\n",
    "    if val in [\"y\", \"yes\", \"true\", \"t\"]:\n",
    "        return True\n",
    "    return False\n",
    "\n",
    "def idparse(val):\n",
    "    \"\"\"\n",
    "    Parse a string that can be used as a Python identifier.\n",
    "    \"\"\"\n",
    "    val = strparse(val)\n",
    "    if val.isidentifier():\n",
    "        return val\n",
    "    raise Exception(\"Invalid Report name. Must be a valid identifier name.\")\n",
    "\n",
    "@magics_class\n",
    "class Bake2ReportMagic(Magics):\n",
    "    #Add things to the report\n",
    "    @needs_local_scope\n",
    "    @magic_arguments()\n",
    "    @argument('-R', '--report', default=None, type=idparse, help='The name of the report to use. If it does not exist, it is created. If None, uses the current active report. Must be a valid Python identifier name.')\n",
    "    @argument('-C', '--container', default=None, type=strparse, help='The name of the container to use. If it does not exist, it is created.')\n",
    "    @argument('-r', '--row', default=None, type=int, help='The row position to use. If none provided, uses the current row.')\n",
    "    @argument('-c', '--col', default=None, type=int, help='The position to take in the row. If none provided, inserts at the end of the current row.')\n",
    "    @argument('-nr', '--new_row', default=True, type=boolparse, help='Whether to use the active row or create a new one.')\n",
    "    @argument('-nc', '--new_col', default=True, type=boolparse, help='Whether to use the active col or create a new one.')\n",
    "    @argument('-s', '--size', default=None, type=int, help='The size of the column in the row.')\n",
    "    @argument('-S', '--special', default=None, type=boolparse, help='Whether to use a special format (recipe) for the input or not. If None, it defaults to True for string inputs and False for any other type.')\n",
    "    @argument('-t', '--recipe', default=\"markdown\", type=str, help='The recipe to use for the input.')\n",
    "    @argument('-a', '--args', default={}, type=dictparse, help='Dictionary of arguments to pass to recipe.')\n",
    "    @argument('-o', '--overwrite', default=False, type=boolparse, help='Whether to overwrite the given column. Only valid if col is not None.')\n",
    "    @argument('-cp', '--copy', default=False, type=boolparse, help='Whether to copy the input object before inserting to the report.')\n",
    "    \n",
    "    @argument('-l', '--latex', default=False, type=boolparse, help='Whether to evaluate LaTeX expresions. Only valid if cell output is a string.')\n",
    "    @argument('-h', '--html', default=False, type=boolparse, help='Whether to  evaluate input as raw HTML rather than markdown. Only valid if cell output is a string.')\n",
    "    @argument('-cap', '--caption', default=None, type=strparse, help='Caption for a DataFrame or Figure.')\n",
    "    \n",
    "    \n",
    "    @line_cell_magic\n",
    "    def bake(self, line, cell=None, local_ns=None):\n",
    "        \"\"\"\n",
    "        IPython Magic that serves as a direct interface for adding elements to a BakePy Report.\n",
    "        \"\"\"\n",
    "        if cell is None:\n",
    "            print(\"Called as line magic\")\n",
    "        else:\n",
    "            print(\"Called as cell magic\")\n",
    "        args = parse_argstring(self.bake, line)\n",
    "\n",
    "        print(args)\n",
    "        if args.report is not None:\n",
    "            local_ns[args.report] = \"REPORT\"\n",
    "        print(\"My results are:\")\n",
    "        print(markdown.markdown(eval(cell, None, local_ns)))\n",
    "    \n",
    "    #Set cls/sty and other things like active reports, etc...\n",
    "    @needs_local_scope\n",
    "    @magic_arguments()\n",
    "    @argument('-R', '--report', default=None, type=idparse, help='The name of the report to use. If it does not exist, it is created. If None, uses the current active report. Must be a valid Python identifier name.')\n",
    "    @argument('-C', '--container', default=None, type=strparse, help='The name of the container to use. If it does not exist, it is created.')\n",
    "    @argument('-r', '--row', default=None, type=int, help='The row position to use. If none provided, uses the current row.')\n",
    "    @argument('-c', '--col', default=None, type=int, help='The position to take in the row. If none provided, inserts at the end of the current row.')\n",
    "    @line_cell_magic\n",
    "    def bake_set(self, line, cell=None, local_ns=None):\n",
    "        \"\"\"\n",
    "        IPython Magic that serves as a direct interface for setting operations in a BakePy Report.\n",
    "        \"\"\"\n",
    "        if cell is None:\n",
    "            print(\"Called as line magic\")\n",
    "        else:\n",
    "            print(\"Called as cell magic\")\n",
    "        args = parse_argstring(self.bake, line)\n",
    "\n",
    "        print(args)\n",
    "        if args.report is not None:\n",
    "            local_ns[args.report] = \"REPORT\"\n",
    "        print(\"My results are:\")\n",
    "        print(markdown.markdown(eval(cell, None, local_ns)))\n",
    "    \n",
    "    #Remove reports, containers, rows, and columns\n",
    "    @needs_local_scope\n",
    "    @magic_arguments()\n",
    "    @argument('-R', '--report', default=None, type=idparse, help='The name of the report to use. If it does not exist, it is created. If None, uses the current active report. Must be a valid Python identifier name.')\n",
    "    @argument('-C', '--container', default=None, type=strparse, help='The name of the container to use. If it does not exist, it is created.')\n",
    "    @argument('-r', '--row', default=None, type=int, help='The row position to use. If none provided, uses the current row.')\n",
    "    @argument('-c', '--col', default=None, type=int, help='The position to take in the row. If none provided, inserts at the end of the current row.')\n",
    "    @line_cell_magic\n",
    "    def bake_rem(self, line, cell=None, local_ns=None):\n",
    "        \"\"\"\n",
    "        IPython Magic that serves as a direct interface for remove operations in a BakePy Report.\n",
    "        \"\"\"\n",
    "        if cell is None:\n",
    "            print(\"Called as line magic\")\n",
    "        else:\n",
    "            print(\"Called as cell magic\")\n",
    "        args = parse_argstring(self.bake, line)\n",
    "\n",
    "        print(args)\n",
    "        if args.report is not None:\n",
    "            local_ns[args.report] = \"REPORT\"\n",
    "        print(\"My results are:\")\n",
    "        print(markdown.markdown(eval(cell, None, local_ns)))\n",
    "\n",
    "    #Save the report\n",
    "    @needs_local_scope\n",
    "    @magic_arguments()\n",
    "    @argument('-R', '--report', default=None, type=idparse, help='The name of the report to use. If it does not exist, it is created. If None, uses the current active report. Must be a valid Python identifier name.')\n",
    "    @argument('-f', '--filetype', default=None, type=strparse, help='The name of the container to use. If it does not exist, it is created.')\n",
    "    @argument('-p', '--path', default=None, type=strparse, help='The row position to use. If none provided, uses the current row.')\n",
    "    @argument('-e', '--embed', default=None, type=boolparse, help='The position to take in the row. If none provided, inserts at the end of the current row.')\n",
    "    @line_cell_magic\n",
    "    def bake_save(self, line, cell=None, local_ns=None):\n",
    "        \"\"\"\n",
    "        IPython Magic that serves as a direct interface for saving operations in a BakePy Report.\n",
    "        \"\"\"\n",
    "        if cell is None:\n",
    "            print(\"Called as line magic\")\n",
    "        else:\n",
    "            print(\"Called as cell magic\")\n",
    "        args = parse_argstring(self.bake, line)\n",
    "\n",
    "        print(args)\n",
    "        if args.report is not None:\n",
    "            local_ns[args.report] = \"REPORT\"\n",
    "        print(\"My results are:\")\n",
    "        print(markdown.markdown(eval(cell, None, local_ns)))"
   ]
  },
  {
   "cell_type": "code",
   "execution_count": null,
   "id": "d9abed63",
   "metadata": {},
   "outputs": [],
   "source": [
    "def dictparse(val):\n",
    "    eval(val, None, local_ns)"
   ]
  },
  {
   "cell_type": "code",
   "execution_count": 18,
   "id": "8e86a5e4",
   "metadata": {},
   "outputs": [],
   "source": [
    "from IPython.core.magic import (Magics, magics_class, line_magic,\n",
    "                                cell_magic, line_cell_magic, needs_local_scope)\n",
    "\n",
    "from IPython.core.magic_arguments import (argument, magic_arguments,\n",
    "    parse_argstring)"
   ]
  },
  {
   "cell_type": "code",
   "execution_count": 40,
   "id": "95970a9d",
   "metadata": {},
   "outputs": [],
   "source": [
    "from IPython.core.magic import (register_line_magic, register_cell_magic,\n",
    "                                register_line_cell_magic)\n",
    "\n",
    "\n",
    "def strparse(val):\n",
    "    \"\"\"\n",
    "    Parse a string with support for spaces.\n",
    "    \"\"\"\n",
    "    if val.startswith('\"') and val.endswith('\"'):\n",
    "        #Using double-quotations\n",
    "        return val.strip('\"')\n",
    "    if val.startswith(\"'\") and val.endswith(\"'\"):\n",
    "        #Using single quotations\n",
    "        return val.strip(\"'\")\n",
    "    return val\n",
    "\n",
    "def boolparse(val):\n",
    "    \"\"\"\n",
    "    Parse a Boolean value.\n",
    "    \"\"\"\n",
    "    val = strparse(val).lower()\n",
    "    if val in [\"y\", \"yes\", \"true\", \"t\"]:\n",
    "        return True\n",
    "    return False\n",
    "\n",
    "def idparse(val):\n",
    "    \"\"\"\n",
    "    Parse a string that can be used as a Python identifier.\n",
    "    \"\"\"\n",
    "    val = strparse(val)\n",
    "    if val.isidentifier():\n",
    "        return val\n",
    "    raise Exception(\"Invalid Report name. Must be a valid identifier name.\")\n",
    "\n",
    "@needs_local_scope\n",
    "@magic_arguments()\n",
    "@argument('-a', '--args', default={}, type=strparse, help='Help')\n",
    "@register_line_magic\n",
    "def lmagic(line, local_ns=None):\n",
    "    \"my line magic\"\n",
    "    \n",
    "    args = parse_argstring(lmagic, line)\n",
    "    arg_dict = eval(args.args, None, local_ns)\n",
    "    print(type(arg_dict))\n",
    "    return line, arg_dict\n",
    "\n",
    "@register_cell_magic\n",
    "def cmagic(line, cell):\n",
    "    \"my cell magic\"\n",
    "    return line, cell\n",
    "\n",
    "@register_line_cell_magic\n",
    "def lcmagic(line, cell=None):\n",
    "    \"Magic that works both as %lcmagic and as %%lcmagic\"\n",
    "    if cell is None:\n",
    "        print(\"Called as line magic\")\n",
    "        return line\n",
    "    else:\n",
    "        print(\"Called as cell magic\")\n",
    "        return line, cell"
   ]
  },
  {
   "cell_type": "code",
   "execution_count": 41,
   "id": "088f59f3",
   "metadata": {},
   "outputs": [
    {
     "data": {
      "text/plain": [
       "dict"
      ]
     },
     "execution_count": 41,
     "metadata": {},
     "output_type": "execute_result"
    }
   ],
   "source": [
    "dict"
   ]
  },
  {
   "cell_type": "code",
   "execution_count": 43,
   "id": "ebde0f6e",
   "metadata": {},
   "outputs": [],
   "source": [
    "a = 2323232"
   ]
  },
  {
   "cell_type": "code",
   "execution_count": 44,
   "id": "14a267a2",
   "metadata": {},
   "outputs": [
    {
     "name": "stdout",
     "output_type": "stream",
     "text": [
      "<class 'dict'>\n"
     ]
    },
    {
     "data": {
      "text/plain": [
       "('-a {\"caption\":a}', {'caption': 2323232})"
      ]
     },
     "execution_count": 44,
     "metadata": {},
     "output_type": "execute_result"
    }
   ],
   "source": [
    "%lmagic -a {\"caption\":a}"
   ]
  },
  {
   "cell_type": "code",
   "execution_count": null,
   "id": "cd5399ee",
   "metadata": {},
   "outputs": [],
   "source": []
  }
 ],
 "metadata": {
  "kernelspec": {
   "display_name": "Python 3 (ipykernel)",
   "language": "python",
   "name": "python3"
  },
  "language_info": {
   "codemirror_mode": {
    "name": "ipython",
    "version": 3
   },
   "file_extension": ".py",
   "mimetype": "text/x-python",
   "name": "python",
   "nbconvert_exporter": "python",
   "pygments_lexer": "ipython3",
   "version": "3.8.8"
  }
 },
 "nbformat": 4,
 "nbformat_minor": 5
}
