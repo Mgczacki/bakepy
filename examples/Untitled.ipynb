{
 "cells": [
  {
   "cell_type": "code",
   "execution_count": 16,
   "id": "d253ccc6",
   "metadata": {},
   "outputs": [
    {
     "data": {
      "image/png": "[encoded data removed]",
      "text/plain": [
       "<Figure size 432x288 with 1 Axes>"
      ]
     },
     "metadata": {
      "needs_background": "light"
     },
     "output_type": "display_data"
    }
   ],
   "source": [
    "import pandas as pd \n",
    "from datetime import datetime as dt\n",
    "from bakepy import Report\n",
    "\n",
    "r = Report()\n",
    "\n",
    "r.add_special(\"markdown\",\n",
    "f\"\"\"\n",
    "<h1 class=\"display-1\"> An example BakePy report </h1>\n",
    "### {dt.now().strftime(\"%Y-%m-%d\")}\n",
    "\"\"\")\n",
    "\n",
    "r.set_col_cls(\"text-center\")\n",
    "\n",
    "r.add_special(\"separator\", new_row = True)\n",
    "\n",
    "a = 4\n",
    "color = \"blue\"\n",
    "l = [\"red\", 3, False]\n",
    "r.add_special(\"markdown\",\n",
    "f\"\"\"\n",
    "We can add markdown and use the power of Python to mix:\n",
    "\n",
    "- Variables, like a={a}\n",
    "- Conditional formatting, like adding the <span style=\"color:{color}\">color {color}</span>\n",
    "- And even directly transform Python objects beyond things like the list: {l}\n",
    "\"\"\", new_row=True\n",
    ")\n",
    "\n",
    "r.add(\"<h2> See some examples below! </h2>\")\n",
    "\n",
    "r.add(\n",
    "\"\"\"\n",
    "For example, Pandas Dataframes and Matplotlib Figures\n",
    "\"\"\", new_col = False)\n",
    "\n",
    "#Adding a DataFrame in a new line.\n",
    "\n",
    "data = {\n",
    "  \"cost\": [420, 380, 390],\n",
    "  \"speed\": [50, 40, 45]\n",
    "}\n",
    "df = pd.DataFrame(data)\n",
    "\n",
    "r.add(df, caption = \"This is a table\", new_row = True)\n",
    "\n",
    "#Adding a plot on the same line.\n",
    "\n",
    "r.add(df.plot(x=\"cost\", y=\"speed\").figure, caption = \"This is a figure\", new_row = True)\n",
    "\n",
    "r.set_col_cls(\"d-flex justify-content-center\")\n",
    "\n",
    "#Saving the report\n",
    "\n",
    "r.save_html(\"example_report.html\")"
   ]
  },
  {
   "cell_type": "code",
   "execution_count": 17,
   "id": "18db3f29",
   "metadata": {},
   "outputs": [
    {
     "data": {
      "text/plain": [
       "Row(name='', elements=[Column(name='', elements=[<Figure size 432x288 with 1 Axes>], parse_options=[{'caption': 'This is a figure'}], classes=['d-flex justify-content-center'], styles=[], size=None, main_class='col')], parse_options=[{}], classes=['justify-content-center pb-5 gx-5'], styles=[], main_class='row')"
      ]
     },
     "execution_count": 17,
     "metadata": {},
     "output_type": "execute_result"
    }
   ],
   "source": [
    "r.current_row"
   ]
  },
  {
   "cell_type": "code",
   "execution_count": 3,
   "id": "11c0b659",
   "metadata": {},
   "outputs": [],
   "source": [
    "r.add_special?"
   ]
  },
  {
   "cell_type": "code",
   "execution_count": 5,
   "id": "176f9d12",
   "metadata": {},
   "outputs": [
    {
     "name": "stdout",
     "output_type": "stream",
     "text": [
      "Collecting mdtex2html\n",
      "  Downloading mdtex2html-1.2.0-py3-none-any.whl (13 kB)\n",
      "Collecting latex2mathml\n",
      "  Downloading latex2mathml-3.74.1-py3-none-any.whl (72 kB)\n",
      "\u001b[K     |████████████████████████████████| 72 kB 1.0 MB/s eta 0:00:01\n",
      "\u001b[?25hRequirement already satisfied: markdown in /home/mario/anaconda3/lib/python3.8/site-packages (from mdtex2html) (3.3.4)\n",
      "Installing collected packages: latex2mathml, mdtex2html\n",
      "Successfully installed latex2mathml-3.74.1 mdtex2html-1.2.0\n"
     ]
    }
   ],
   "source": [
    "!pip install mdtex2html"
   ]
  },
  {
   "cell_type": "code",
   "execution_count": null,
   "id": "e0648c10",
   "metadata": {},
   "outputs": [],
   "source": []
  }
 ],
 "metadata": {
  "kernelspec": {
   "display_name": "Python 3 (ipykernel)",
   "language": "python",
   "name": "python3"
  },
  "language_info": {
   "codemirror_mode": {
    "name": "ipython",
    "version": 3
   },
   "file_extension": ".py",
   "mimetype": "text/x-python",
   "name": "python",
   "nbconvert_exporter": "python",
   "pygments_lexer": "ipython3",
   "version": "3.8.8"
  }
 },
 "nbformat": 4,
 "nbformat_minor": 5
}
